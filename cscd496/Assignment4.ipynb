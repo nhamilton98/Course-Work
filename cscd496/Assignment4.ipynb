{
 "cells": [
  {
   "cell_type": "markdown",
   "metadata": {},
   "source": [
    "#  Logistic Regression\n",
    "## Classifying Handwritten Numbers\n",
    "### Manipulate The Data"
   ]
  },
  {
   "cell_type": "code",
   "execution_count": 1,
   "metadata": {},
   "outputs": [
    {
     "name": "stderr",
     "output_type": "stream",
     "text": [
      "Using TensorFlow backend.\n"
     ]
    },
    {
     "name": "stdout",
     "output_type": "stream",
     "text": [
      "(60000, 28, 28)\n",
      "(60000,)\n",
      "(10000, 28, 28)\n",
      "(10000,)\n"
     ]
    }
   ],
   "source": [
    "import numpy as np\n",
    "from keras.datasets import mnist\n",
    "from keras.utils import to_categorical\n",
    "import pylab as plt\n",
    "import matplotlib.cm as cm\n",
    "\n",
    "(x_train, y_train), (x_test, y_test) = mnist.load_data()\n",
    "\n",
    "# Show the data shape\n",
    "print(x_train.shape)\n",
    "print(y_train.shape)\n",
    "print(x_test.shape)\n",
    "print(y_test.shape)"
   ]
  },
  {
   "cell_type": "code",
   "execution_count": 2,
   "metadata": {},
   "outputs": [
    {
     "name": "stdout",
     "output_type": "stream",
     "text": [
      "label:  8\n"
     ]
    },
    {
     "data": {
      "image/png": "[encoded data removed]",
      "text/plain": [
       "<Figure size 432x288 with 1 Axes>"
      ]
     },
     "metadata": {
      "needs_background": "light"
     },
     "output_type": "display_data"
    }
   ],
   "source": [
    "# Display one of the 60,000 images in x_train\n",
    "i = np.where(y_train == 8)[0][0]\n",
    "print(\"label: \", y_train[i])\n",
    "sample = x_train[i, ...]\n",
    "sample.shape\n",
    "plt.imshow(sample, cmap = cm.gray)\n",
    "plt.show()"
   ]
  },
  {
   "cell_type": "code",
   "execution_count": 3,
   "metadata": {},
   "outputs": [
    {
     "name": "stdout",
     "output_type": "stream",
     "text": [
      "(60000, 784)\n",
      "(60000, 10)\n",
      "label:  [0. 0. 0. 0. 0. 0. 0. 0. 1. 0.]\n"
     ]
    }
   ],
   "source": [
    "# Reshape the data to a flat array\n",
    "x_train = x_train.reshape(60000, 28 * 28)\n",
    "print(x_train.shape)\n",
    "\n",
    "# One-hot encode the labels\n",
    "y_train = to_categorical(y_train)\n",
    "print(y_train.shape)\n",
    "print(\"label: \", y_train[i, :])"
   ]
  },
  {
   "cell_type": "markdown",
   "metadata": {},
   "source": [
    "### Control Model 1:\n",
    "- One hidden layer\n",
    "- 16 nodes"
   ]
  },
  {
   "cell_type": "code",
   "execution_count": 4,
   "metadata": {},
   "outputs": [
    {
     "name": "stdout",
     "output_type": "stream",
     "text": [
      "WARNING:tensorflow:From /home/nathan/cscd496/lib/python3.6/site-packages/tensorflow/python/framework/op_def_library.py:263: colocate_with (from tensorflow.python.framework.ops) is deprecated and will be removed in a future version.\n",
      "Instructions for updating:\n",
      "Colocations handled automatically by placer.\n",
      "WARNING:tensorflow:From /home/nathan/cscd496/lib/python3.6/site-packages/tensorflow/python/ops/math_ops.py:3066: to_int32 (from tensorflow.python.ops.math_ops) is deprecated and will be removed in a future version.\n",
      "Instructions for updating:\n",
      "Use tf.cast instead.\n",
      "Train on 48000 samples, validate on 12000 samples\n",
      "Epoch 1/25\n",
      "48000/48000 [==============================] - 1s 24us/step - loss: 8.1788 - acc: 0.4588 - val_loss: 5.5803 - val_acc: 0.6024\n",
      "Epoch 2/25\n",
      "48000/48000 [==============================] - 1s 20us/step - loss: 3.4835 - acc: 0.6264 - val_loss: 1.5777 - val_acc: 0.5477\n",
      "Epoch 3/25\n",
      "48000/48000 [==============================] - 1s 23us/step - loss: 1.3355 - acc: 0.6175 - val_loss: 1.1582 - val_acc: 0.6971\n",
      "Epoch 4/25\n",
      "48000/48000 [==============================] - 1s 23us/step - loss: 1.0340 - acc: 0.7371 - val_loss: 0.9909 - val_acc: 0.7540\n",
      "Epoch 5/25\n",
      "48000/48000 [==============================] - 1s 17us/step - loss: 0.8963 - acc: 0.7817 - val_loss: 0.9339 - val_acc: 0.7983\n",
      "Epoch 6/25\n",
      "48000/48000 [==============================] - 1s 19us/step - loss: 0.8010 - acc: 0.8088 - val_loss: 0.8249 - val_acc: 0.8037\n",
      "Epoch 7/25\n",
      "48000/48000 [==============================] - 1s 17us/step - loss: 0.7017 - acc: 0.8266 - val_loss: 0.7074 - val_acc: 0.8261\n",
      "Epoch 8/25\n",
      "48000/48000 [==============================] - 1s 20us/step - loss: 0.6032 - acc: 0.8518 - val_loss: 0.6872 - val_acc: 0.8576\n",
      "Epoch 9/25\n",
      "48000/48000 [==============================] - 1s 20us/step - loss: 0.5452 - acc: 0.8755 - val_loss: 0.5923 - val_acc: 0.8788\n",
      "Epoch 10/25\n",
      "48000/48000 [==============================] - 1s 21us/step - loss: 0.5079 - acc: 0.8836 - val_loss: 0.5723 - val_acc: 0.8753\n",
      "Epoch 11/25\n",
      "48000/48000 [==============================] - 1s 19us/step - loss: 0.4750 - acc: 0.8917 - val_loss: 0.5345 - val_acc: 0.8908\n",
      "Epoch 12/25\n",
      "48000/48000 [==============================] - 1s 21us/step - loss: 0.4452 - acc: 0.8963 - val_loss: 0.5299 - val_acc: 0.8883\n",
      "Epoch 13/25\n",
      "48000/48000 [==============================] - 1s 20us/step - loss: 0.4301 - acc: 0.9011 - val_loss: 0.4905 - val_acc: 0.8937\n",
      "Epoch 14/25\n",
      "48000/48000 [==============================] - 1s 21us/step - loss: 0.4054 - acc: 0.9051 - val_loss: 0.4810 - val_acc: 0.8992\n",
      "Epoch 15/25\n",
      "48000/48000 [==============================] - 1s 19us/step - loss: 0.3836 - acc: 0.9092 - val_loss: 0.4601 - val_acc: 0.9028\n",
      "Epoch 16/25\n",
      "48000/48000 [==============================] - 1s 20us/step - loss: 0.3687 - acc: 0.9134 - val_loss: 0.4502 - val_acc: 0.9008\n",
      "Epoch 17/25\n",
      "48000/48000 [==============================] - 1s 19us/step - loss: 0.3525 - acc: 0.9148 - val_loss: 0.4456 - val_acc: 0.8998\n",
      "Epoch 18/25\n",
      "48000/48000 [==============================] - 1s 20us/step - loss: 0.3381 - acc: 0.9185 - val_loss: 0.4326 - val_acc: 0.9071\n",
      "Epoch 19/25\n",
      "48000/48000 [==============================] - 1s 20us/step - loss: 0.3283 - acc: 0.9193 - val_loss: 0.4280 - val_acc: 0.9033\n",
      "Epoch 20/25\n",
      "48000/48000 [==============================] - 1s 19us/step - loss: 0.3139 - acc: 0.9218 - val_loss: 0.4367 - val_acc: 0.9045\n",
      "Epoch 21/25\n",
      "48000/48000 [==============================] - 1s 20us/step - loss: 0.3044 - acc: 0.9247 - val_loss: 0.4135 - val_acc: 0.9134\n",
      "Epoch 22/25\n",
      "48000/48000 [==============================] - 1s 20us/step - loss: 0.2940 - acc: 0.9272 - val_loss: 0.4172 - val_acc: 0.9133\n",
      "Epoch 23/25\n",
      "48000/48000 [==============================] - 1s 19us/step - loss: 0.2858 - acc: 0.9289 - val_loss: 0.4031 - val_acc: 0.9160\n",
      "Epoch 24/25\n",
      "48000/48000 [==============================] - 1s 19us/step - loss: 0.2754 - acc: 0.9305 - val_loss: 0.4111 - val_acc: 0.9088\n",
      "Epoch 25/25\n",
      "48000/48000 [==============================] - 1s 20us/step - loss: 0.2688 - acc: 0.9318 - val_loss: 0.3844 - val_acc: 0.9168\n"
     ]
    }
   ],
   "source": [
    "# Create validation set\n",
    "from sklearn.model_selection import train_test_split\n",
    "\n",
    "x_train_part, x_train_val, y_train_part, y_train_val = train_test_split(x_train, y_train, test_size = 0.2, random_state = 42, stratify = np.argmax(y_train, axis = 1))\n",
    "\n",
    "# Define logistic regression classification model\n",
    "from keras import models\n",
    "from keras import layers\n",
    "from keras import optimizers\n",
    "\n",
    "model_control1 = models.Sequential()\n",
    "model_control1.add(layers.Dense(16, activation = 'relu', input_shape = (784,)))\n",
    "model_control1.add(layers.Dense(10, activation = 'softmax'))\n",
    "\n",
    "# Compile model\n",
    "model_control1.compile(optimizer = 'rmsprop', loss = 'categorical_crossentropy', metrics = ['accuracy'])\n",
    "\n",
    "# Fit model\n",
    "eps = 25\n",
    "history = model_control1.fit(x_train_part, y_train_part, batch_size = 1024, epochs = eps, validation_data = (x_train_val, y_train_val))"
   ]
  },
  {
   "cell_type": "code",
   "execution_count": 5,
   "metadata": {},
   "outputs": [
    {
     "data": {
      "image/png": "[encoded data removed]",
      "text/plain": [
       "<Figure size 432x288 with 1 Axes>"
      ]
     },
     "metadata": {
      "needs_background": "light"
     },
     "output_type": "display_data"
    }
   ],
   "source": [
    "# Plot the learning parameters\n",
    "import matplotlib.pyplot as plt\n",
    "\n",
    "history_dict = history.history\n",
    "loss_values = history_dict['loss']\n",
    "val_loss_values = history_dict['val_loss']\n",
    "\n",
    "epochs = range(1, eps + 1)\n",
    "\n",
    "plt.plot(epochs, loss_values, 'g', label = 'Training Loss')\n",
    "plt.plot(epochs, val_loss_values, 'b', label = 'Validation Loss')\n",
    "plt.title('Training and Validation Loss')\n",
    "plt.xlabel('Epochs')\n",
    "plt.ylabel('Loss')\n",
    "plt.legend()\n",
    "\n",
    "plt.show()"
   ]
  },
  {
   "cell_type": "code",
   "execution_count": 6,
   "metadata": {},
   "outputs": [
    {
     "data": {
      "image/png": "[encoded data removed]",
      "text/plain": [
       "<Figure size 432x288 with 1 Axes>"
      ]
     },
     "metadata": {
      "needs_background": "light"
     },
     "output_type": "display_data"
    }
   ],
   "source": [
    "plt.clf()\n",
    "\n",
    "acc_values = history_dict['acc']\n",
    "val_acc_values = history_dict['val_acc']\n",
    "\n",
    "plt.plot(epochs, acc_values, 'g', label = 'Training Accuracy')\n",
    "plt.plot(epochs, val_acc_values, 'b', label = 'Validation Accuracy')\n",
    "plt.title('Training and Validation Accuracy')\n",
    "plt.xlabel('Epochs')\n",
    "plt.ylabel('Accuracy')\n",
    "plt.legend()\n",
    "\n",
    "plt.show()"
   ]
  },
  {
   "cell_type": "code",
   "execution_count": 7,
   "metadata": {},
   "outputs": [
    {
     "data": {
      "text/plain": [
       "array([[ 923,    0,    2,    1,    0,    5,   14,    2,   33,    0],\n",
       "       [   0, 1105,    7,    0,    0,    1,    5,    0,   17,    0],\n",
       "       [   2,    4,  968,    8,    4,    1,    6,    6,   31,    2],\n",
       "       [   2,    0,   31,  892,    0,   21,    2,    7,   50,    5],\n",
       "       [   0,    2,    2,    0,  886,    1,   14,    1,   47,   29],\n",
       "       [   3,    1,    1,   37,    1,  791,   14,    1,   42,    1],\n",
       "       [   5,    3,    4,    1,    8,    8,  920,    0,    9,    0],\n",
       "       [   2,    6,   35,    8,    7,    1,    0,  929,   11,   29],\n",
       "       [   0,    5,   15,    4,    7,   10,    6,    3,  920,    4],\n",
       "       [   5,    5,    0,   13,   47,    6,    1,    7,   42,  883]])"
      ]
     },
     "execution_count": 7,
     "metadata": {},
     "output_type": "execute_result"
    }
   ],
   "source": [
    "# \n",
    "# Examine the confusion\n",
    "from sklearn.metrics import confusion_matrix, classification_report\n",
    "\n",
    "y_pred = model_control1.predict(x_test.reshape(10000, 28 * 28))\n",
    "y_pred_test = np.argmax(y_pred, axis = 1)\n",
    "\n",
    "confusion_matrix(y_test, y_pred_test)"
   ]
  },
  {
   "cell_type": "code",
   "execution_count": 8,
   "metadata": {},
   "outputs": [
    {
     "name": "stdout",
     "output_type": "stream",
     "text": [
      "              precision    recall  f1-score   support\n",
      "\n",
      "           0       0.98      0.94      0.96       980\n",
      "           1       0.98      0.97      0.98      1135\n",
      "           2       0.91      0.94      0.92      1032\n",
      "           3       0.93      0.88      0.90      1010\n",
      "           4       0.92      0.90      0.91       982\n",
      "           5       0.94      0.89      0.91       892\n",
      "           6       0.94      0.96      0.95       958\n",
      "           7       0.97      0.90      0.94      1028\n",
      "           8       0.77      0.94      0.85       974\n",
      "           9       0.93      0.88      0.90      1009\n",
      "\n",
      "   micro avg       0.92      0.92      0.92     10000\n",
      "   macro avg       0.93      0.92      0.92     10000\n",
      "weighted avg       0.93      0.92      0.92     10000\n",
      "\n"
     ]
    }
   ],
   "source": [
    "print(classification_report(y_test, y_pred_test))"
   ]
  },
  {
   "cell_type": "markdown",
   "metadata": {},
   "source": [
    "### Control Model 2:\n",
    "- Two hidden layers\n",
    "- 32 & 16 nodes"
   ]
  },
  {
   "cell_type": "code",
   "execution_count": 9,
   "metadata": {},
   "outputs": [
    {
     "name": "stdout",
     "output_type": "stream",
     "text": [
      "Train on 48000 samples, validate on 12000 samples\n",
      "Epoch 1/25\n",
      "48000/48000 [==============================] - 1s 25us/step - loss: 6.8483 - acc: 0.5424 - val_loss: 4.7683 - val_acc: 0.6758\n",
      "Epoch 2/25\n",
      "48000/48000 [==============================] - 1s 18us/step - loss: 3.6866 - acc: 0.7434 - val_loss: 2.9747 - val_acc: 0.7929\n",
      "Epoch 3/25\n",
      "48000/48000 [==============================] - 1s 21us/step - loss: 2.7125 - acc: 0.8092 - val_loss: 2.6936 - val_acc: 0.8061\n",
      "Epoch 4/25\n",
      "48000/48000 [==============================] - 1s 24us/step - loss: 1.9940 - acc: 0.8487 - val_loss: 1.6890 - val_acc: 0.8608\n",
      "Epoch 5/25\n",
      "48000/48000 [==============================] - 1s 22us/step - loss: 1.4464 - acc: 0.8833 - val_loss: 1.2923 - val_acc: 0.8946\n",
      "Epoch 6/25\n",
      "48000/48000 [==============================] - 1s 21us/step - loss: 1.1616 - acc: 0.9031 - val_loss: 1.2363 - val_acc: 0.8963\n",
      "Epoch 7/25\n",
      "48000/48000 [==============================] - 1s 23us/step - loss: 1.0330 - acc: 0.9123 - val_loss: 0.9941 - val_acc: 0.9054\n",
      "Epoch 8/25\n",
      "48000/48000 [==============================] - 1s 23us/step - loss: 0.9005 - acc: 0.9160 - val_loss: 1.0369 - val_acc: 0.9048\n",
      "Epoch 9/25\n",
      "48000/48000 [==============================] - 1s 21us/step - loss: 0.8178 - acc: 0.9164 - val_loss: 0.9023 - val_acc: 0.9062\n",
      "Epoch 10/25\n",
      "48000/48000 [==============================] - 1s 20us/step - loss: 0.7282 - acc: 0.9209 - val_loss: 0.8229 - val_acc: 0.9067\n",
      "Epoch 11/25\n",
      "48000/48000 [==============================] - 1s 21us/step - loss: 0.6626 - acc: 0.9227 - val_loss: 0.7992 - val_acc: 0.9177\n",
      "Epoch 12/25\n",
      "48000/48000 [==============================] - 1s 24us/step - loss: 0.6066 - acc: 0.9281 - val_loss: 0.7449 - val_acc: 0.9153\n",
      "Epoch 13/25\n",
      "48000/48000 [==============================] - 1s 20us/step - loss: 0.5667 - acc: 0.9270 - val_loss: 0.7290 - val_acc: 0.9104\n",
      "Epoch 14/25\n",
      "48000/48000 [==============================] - 1s 19us/step - loss: 0.5149 - acc: 0.9327 - val_loss: 0.6148 - val_acc: 0.9219\n",
      "Epoch 15/25\n",
      "48000/48000 [==============================] - 1s 21us/step - loss: 0.4921 - acc: 0.9299 - val_loss: 0.6234 - val_acc: 0.9217\n",
      "Epoch 16/25\n",
      "48000/48000 [==============================] - 1s 27us/step - loss: 0.4636 - acc: 0.9325 - val_loss: 0.5860 - val_acc: 0.9238\n",
      "Epoch 17/25\n",
      "48000/48000 [==============================] - 1s 23us/step - loss: 0.4353 - acc: 0.9354 - val_loss: 0.5725 - val_acc: 0.9230\n",
      "Epoch 18/25\n",
      "48000/48000 [==============================] - 1s 19us/step - loss: 0.3961 - acc: 0.9415 - val_loss: 0.5715 - val_acc: 0.9190\n",
      "Epoch 19/25\n",
      "48000/48000 [==============================] - 1s 19us/step - loss: 0.3864 - acc: 0.9400 - val_loss: 0.5109 - val_acc: 0.9307\n",
      "Epoch 20/25\n",
      "48000/48000 [==============================] - 1s 20us/step - loss: 0.3579 - acc: 0.9449 - val_loss: 0.5285 - val_acc: 0.9265\n",
      "Epoch 21/25\n",
      "48000/48000 [==============================] - 1s 20us/step - loss: 0.3389 - acc: 0.9463 - val_loss: 0.4970 - val_acc: 0.9320\n",
      "Epoch 22/25\n",
      "48000/48000 [==============================] - 1s 19us/step - loss: 0.3277 - acc: 0.9477 - val_loss: 0.4794 - val_acc: 0.9329\n",
      "Epoch 23/25\n",
      "48000/48000 [==============================] - 1s 19us/step - loss: 0.3087 - acc: 0.9497 - val_loss: 0.4615 - val_acc: 0.9298\n",
      "Epoch 24/25\n",
      "48000/48000 [==============================] - 1s 19us/step - loss: 0.3008 - acc: 0.9504 - val_loss: 0.5050 - val_acc: 0.9322\n",
      "Epoch 25/25\n",
      "48000/48000 [==============================] - 1s 20us/step - loss: 0.2860 - acc: 0.9519 - val_loss: 0.4609 - val_acc: 0.9287\n"
     ]
    }
   ],
   "source": [
    "# Retry the model using two hidden layers\n",
    "model_control2 = models.Sequential()\n",
    "model_control2.add(layers.Dense(32, activation = 'relu', input_shape = (784,)))\n",
    "model_control2.add(layers.Dense(16, activation = 'relu'))\n",
    "model_control2.add(layers.Dense(10, activation = 'softmax'))\n",
    "\n",
    "# Compile the model\n",
    "model_control2.compile(optimizer = 'rmsprop', loss = 'categorical_crossentropy', metrics = ['accuracy'])\n",
    "\n",
    "# Fit the model\n",
    "eps = 25\n",
    "history = model_control2.fit(x_train_part, y_train_part, batch_size = 1024, epochs = eps, validation_data = (x_train_val, y_train_val))"
   ]
  },
  {
   "cell_type": "code",
   "execution_count": 10,
   "metadata": {},
   "outputs": [
    {
     "data": {
      "image/png": "[encoded data removed]",
      "text/plain": [
       "<Figure size 432x288 with 1 Axes>"
      ]
     },
     "metadata": {
      "needs_background": "light"
     },
     "output_type": "display_data"
    }
   ],
   "source": [
    "# Plot the learning parameters\n",
    "import matplotlib.pyplot as plt\n",
    "\n",
    "history_dict = history.history\n",
    "loss_values = history_dict['loss']\n",
    "val_loss_values = history_dict['val_loss']\n",
    "\n",
    "epochs = range(1, eps + 1)\n",
    "\n",
    "plt.plot(epochs, loss_values, 'g', label = 'Training Loss')\n",
    "plt.plot(epochs, val_loss_values, 'b', label = 'Validation Loss')\n",
    "plt.xlabel('Epochs')\n",
    "plt.ylabel('Loss')\n",
    "plt.legend()\n",
    "\n",
    "plt.show()"
   ]
  },
  {
   "cell_type": "code",
   "execution_count": 11,
   "metadata": {},
   "outputs": [
    {
     "data": {
      "image/png": "[encoded data removed]",
      "text/plain": [
       "<Figure size 432x288 with 1 Axes>"
      ]
     },
     "metadata": {
      "needs_background": "light"
     },
     "output_type": "display_data"
    }
   ],
   "source": [
    "plt.clf()\n",
    "\n",
    "acc_values = history_dict['acc']\n",
    "val_acc_values = history_dict['val_acc']\n",
    "\n",
    "plt.plot(epochs, acc_values, 'g', label = 'Training Accuracy')\n",
    "plt.plot(epochs, val_acc_values, 'b', label = 'Validation Accuracy')\n",
    "plt.title('Training and Validation Accuracy')\n",
    "plt.xlabel('Epochs')\n",
    "plt.ylabel('Accuracy')\n",
    "plt.legend()\n",
    "\n",
    "plt.show()"
   ]
  },
  {
   "cell_type": "code",
   "execution_count": 12,
   "metadata": {},
   "outputs": [
    {
     "data": {
      "text/plain": [
       "array([[ 958,    1,    6,    1,    0,    2,    3,    1,    5,    3],\n",
       "       [   0, 1114,    4,    2,    1,    1,    2,    0,    9,    2],\n",
       "       [  12,    5,  953,   10,    7,    2,    3,   14,   25,    1],\n",
       "       [   0,    2,    6,  916,    0,   35,    1,   16,   33,    1],\n",
       "       [   4,    2,    6,    0,  907,    0,    5,    6,   25,   27],\n",
       "       [   7,    7,    2,   16,    1,  797,    9,    4,   43,    6],\n",
       "       [  14,    5,    6,    0,    8,    6,  914,    0,    2,    3],\n",
       "       [   0,   14,   16,    7,    2,    1,    0,  972,   11,    5],\n",
       "       [  10,    0,   18,   16,    3,   11,   11,   12,  887,    6],\n",
       "       [   5,    8,    0,    6,   19,    4,    0,   78,   44,  845]])"
      ]
     },
     "execution_count": 12,
     "metadata": {},
     "output_type": "execute_result"
    }
   ],
   "source": [
    "# Examine the confusion\n",
    "y_pred = model_control2.predict(x_test.reshape(10000, 28 * 28))\n",
    "y_pred_test = np.argmax(y_pred, axis = 1)\n",
    "\n",
    "confusion_matrix(y_test, y_pred_test)"
   ]
  },
  {
   "cell_type": "code",
   "execution_count": 13,
   "metadata": {},
   "outputs": [
    {
     "name": "stdout",
     "output_type": "stream",
     "text": [
      "              precision    recall  f1-score   support\n",
      "\n",
      "           0       0.95      0.98      0.96       980\n",
      "           1       0.96      0.98      0.97      1135\n",
      "           2       0.94      0.92      0.93      1032\n",
      "           3       0.94      0.91      0.92      1010\n",
      "           4       0.96      0.92      0.94       982\n",
      "           5       0.93      0.89      0.91       892\n",
      "           6       0.96      0.95      0.96       958\n",
      "           7       0.88      0.95      0.91      1028\n",
      "           8       0.82      0.91      0.86       974\n",
      "           9       0.94      0.84      0.89      1009\n",
      "\n",
      "   micro avg       0.93      0.93      0.93     10000\n",
      "   macro avg       0.93      0.93      0.93     10000\n",
      "weighted avg       0.93      0.93      0.93     10000\n",
      "\n"
     ]
    }
   ],
   "source": [
    "print(classification_report(y_test, y_pred_test))"
   ]
  },
  {
   "cell_type": "markdown",
   "metadata": {},
   "source": [
    "### Experiment Model 1:\n",
    "- One hidden layer\n",
    "- 100 nodes"
   ]
  },
  {
   "cell_type": "code",
   "execution_count": 14,
   "metadata": {},
   "outputs": [
    {
     "name": "stdout",
     "output_type": "stream",
     "text": [
      "Train on 48000 samples, validate on 12000 samples\n",
      "Epoch 1/25\n",
      "48000/48000 [==============================] - 2s 37us/step - loss: 9.3167 - acc: 0.4166 - val_loss: 7.3263 - val_acc: 0.5413\n",
      "Epoch 2/25\n",
      "48000/48000 [==============================] - 2s 31us/step - loss: 7.1452 - acc: 0.5529 - val_loss: 6.9512 - val_acc: 0.5662\n",
      "Epoch 3/25\n",
      "48000/48000 [==============================] - 1s 25us/step - loss: 6.9944 - acc: 0.5629 - val_loss: 7.1232 - val_acc: 0.5544\n",
      "Epoch 4/25\n",
      "48000/48000 [==============================] - 2s 34us/step - loss: 6.8915 - acc: 0.5704 - val_loss: 6.8039 - val_acc: 0.5755\n",
      "Epoch 5/25\n",
      "48000/48000 [==============================] - 2s 34us/step - loss: 6.8308 - acc: 0.5740 - val_loss: 6.9302 - val_acc: 0.5677\n",
      "Epoch 6/25\n",
      "48000/48000 [==============================] - 2s 35us/step - loss: 6.6985 - acc: 0.5821 - val_loss: 5.6714 - val_acc: 0.6443\n",
      "Epoch 7/25\n",
      "48000/48000 [==============================] - 2s 34us/step - loss: 5.3673 - acc: 0.6643 - val_loss: 5.3411 - val_acc: 0.6661\n",
      "Epoch 8/25\n",
      "48000/48000 [==============================] - 2s 33us/step - loss: 5.2897 - acc: 0.6694 - val_loss: 5.2995 - val_acc: 0.6697\n",
      "Epoch 9/25\n",
      "48000/48000 [==============================] - 2s 32us/step - loss: 5.2386 - acc: 0.6730 - val_loss: 5.2646 - val_acc: 0.6711\n",
      "Epoch 10/25\n",
      "48000/48000 [==============================] - 2s 32us/step - loss: 5.2062 - acc: 0.6748 - val_loss: 5.1664 - val_acc: 0.6762\n",
      "Epoch 11/25\n",
      "48000/48000 [==============================] - 2s 34us/step - loss: 4.6215 - acc: 0.7096 - val_loss: 4.1450 - val_acc: 0.7396\n",
      "Epoch 12/25\n",
      "48000/48000 [==============================] - 2s 36us/step - loss: 3.9854 - acc: 0.7493 - val_loss: 4.0391 - val_acc: 0.7462\n",
      "Epoch 13/25\n",
      "48000/48000 [==============================] - 2s 34us/step - loss: 3.9249 - acc: 0.7533 - val_loss: 3.9361 - val_acc: 0.7528\n",
      "Epoch 14/25\n",
      "48000/48000 [==============================] - 2s 34us/step - loss: 3.8462 - acc: 0.7583 - val_loss: 3.9544 - val_acc: 0.7518\n",
      "Epoch 15/25\n",
      "48000/48000 [==============================] - 2s 36us/step - loss: 3.8214 - acc: 0.7608 - val_loss: 3.8545 - val_acc: 0.7579\n",
      "Epoch 16/25\n",
      "48000/48000 [==============================] - 2s 38us/step - loss: 3.7848 - acc: 0.7629 - val_loss: 3.8897 - val_acc: 0.7557\n",
      "Epoch 17/25\n",
      "48000/48000 [==============================] - 1s 30us/step - loss: 3.0547 - acc: 0.8063 - val_loss: 1.6808 - val_acc: 0.8878\n",
      "Epoch 18/25\n",
      "48000/48000 [==============================] - 2s 38us/step - loss: 1.1166 - acc: 0.9252 - val_loss: 1.0216 - val_acc: 0.9318\n",
      "Epoch 19/25\n",
      "48000/48000 [==============================] - 2s 38us/step - loss: 0.9046 - acc: 0.9392 - val_loss: 0.9182 - val_acc: 0.9390\n",
      "Epoch 20/25\n",
      "48000/48000 [==============================] - 2s 39us/step - loss: 0.8172 - acc: 0.9452 - val_loss: 0.9229 - val_acc: 0.9384\n",
      "Epoch 21/25\n",
      "48000/48000 [==============================] - 1s 25us/step - loss: 0.7462 - acc: 0.9498 - val_loss: 0.8379 - val_acc: 0.9434\n",
      "Epoch 22/25\n",
      "48000/48000 [==============================] - 2s 36us/step - loss: 0.7212 - acc: 0.9515 - val_loss: 0.7677 - val_acc: 0.9490\n",
      "Epoch 23/25\n",
      "48000/48000 [==============================] - 1s 31us/step - loss: 0.6697 - acc: 0.9551 - val_loss: 0.8004 - val_acc: 0.9463\n",
      "Epoch 24/25\n",
      "48000/48000 [==============================] - 1s 27us/step - loss: 0.6403 - acc: 0.9572 - val_loss: 0.7548 - val_acc: 0.9504\n",
      "Epoch 25/25\n",
      "48000/48000 [==============================] - 1s 24us/step - loss: 0.6143 - acc: 0.9589 - val_loss: 0.7617 - val_acc: 0.9498\n"
     ]
    }
   ],
   "source": [
    "model_experiment1 = models.Sequential()\n",
    "model_experiment1.add(layers.Dense(100, activation = 'relu', input_shape = (784,)))\n",
    "model_experiment1.add(layers.Dense(10, activation = 'softmax'))\n",
    "\n",
    "# Compile the model\n",
    "model_experiment1.compile(optimizer = 'rmsprop', loss = 'categorical_crossentropy', metrics = ['accuracy'])\n",
    "\n",
    "# Fit the model\n",
    "eps = 25\n",
    "history = model_experiment1.fit(x_train_part, y_train_part, batch_size = 1024, epochs = eps, validation_data = (x_train_val, y_train_val))"
   ]
  },
  {
   "cell_type": "code",
   "execution_count": 15,
   "metadata": {},
   "outputs": [
    {
     "data": {
      "image/png": "[encoded data removed]",
      "text/plain": [
       "<Figure size 432x288 with 1 Axes>"
      ]
     },
     "metadata": {
      "needs_background": "light"
     },
     "output_type": "display_data"
    }
   ],
   "source": [
    "# Plot the learning parameters\n",
    "history_dict = history.history\n",
    "loss_values = history_dict['loss']\n",
    "val_loss_values = history_dict['val_loss']\n",
    "\n",
    "epochs = range(1, eps + 1)\n",
    "\n",
    "plt.plot(epochs, loss_values, 'g', label = 'Training Loss')\n",
    "plt.plot(epochs, val_loss_values, 'b', label = 'Validation Loss')\n",
    "plt.title('Training and Validation Loss')\n",
    "plt.xlabel('Epochs')\n",
    "plt.ylabel('Loss')\n",
    "plt.legend()\n",
    "\n",
    "plt.show()"
   ]
  },
  {
   "cell_type": "code",
   "execution_count": 16,
   "metadata": {},
   "outputs": [
    {
     "data": {
      "image/png": "[encoded data removed]",
      "text/plain": [
       "<Figure size 432x288 with 1 Axes>"
      ]
     },
     "metadata": {
      "needs_background": "light"
     },
     "output_type": "display_data"
    }
   ],
   "source": [
    "plt.clf()\n",
    "\n",
    "acc_values = history_dict['acc']\n",
    "val_acc_values = history_dict['val_acc']\n",
    "\n",
    "plt.plot(epochs, acc_values, 'g', label = 'Training Accuracy')\n",
    "plt.plot(epochs, val_acc_values, 'b', label = 'Validation Accuracy')\n",
    "plt.title('Training and Validation Accuracy')\n",
    "plt.xlabel('Epochs')\n",
    "plt.ylabel('Accuracy')\n",
    "plt.legend()\n",
    "\n",
    "plt.show()"
   ]
  },
  {
   "cell_type": "code",
   "execution_count": 17,
   "metadata": {},
   "outputs": [
    {
     "data": {
      "text/plain": [
       "array([[ 969,    0,    0,    2,    1,    2,    4,    1,    1,    0],\n",
       "       [   0, 1116,    5,    7,    0,    1,    2,    1,    3,    0],\n",
       "       [   7,    2,  977,    8,   11,    0,    4,   10,   13,    0],\n",
       "       [   4,    0,   20,  947,    0,   12,    0,   14,   10,    3],\n",
       "       [   1,    0,    3,    0,  962,    0,    3,    1,    3,    9],\n",
       "       [  14,    1,    0,   34,    1,  824,    5,    5,    7,    1],\n",
       "       [  15,    3,    1,    1,    9,   12,  912,    1,    3,    1],\n",
       "       [   0,    2,   12,    8,    7,    1,    0,  992,    2,    4],\n",
       "       [   4,    1,    4,   29,    6,   14,    5,    8,  898,    5],\n",
       "       [   5,    6,    1,   17,   26,    4,    1,   21,    5,  923]])"
      ]
     },
     "execution_count": 17,
     "metadata": {},
     "output_type": "execute_result"
    }
   ],
   "source": [
    "# Examine the confusion\n",
    "y_pred = model_experiment1.predict(x_test.reshape(10000, 28 * 28))\n",
    "y_pred_test = np.argmax(y_pred, axis = 1)\n",
    "\n",
    "confusion_matrix(y_test, y_pred_test)"
   ]
  },
  {
   "cell_type": "code",
   "execution_count": 18,
   "metadata": {},
   "outputs": [
    {
     "name": "stdout",
     "output_type": "stream",
     "text": [
      "              precision    recall  f1-score   support\n",
      "\n",
      "           0       0.95      0.99      0.97       980\n",
      "           1       0.99      0.98      0.98      1135\n",
      "           2       0.96      0.95      0.95      1032\n",
      "           3       0.90      0.94      0.92      1010\n",
      "           4       0.94      0.98      0.96       982\n",
      "           5       0.95      0.92      0.94       892\n",
      "           6       0.97      0.95      0.96       958\n",
      "           7       0.94      0.96      0.95      1028\n",
      "           8       0.95      0.92      0.94       974\n",
      "           9       0.98      0.91      0.94      1009\n",
      "\n",
      "   micro avg       0.95      0.95      0.95     10000\n",
      "   macro avg       0.95      0.95      0.95     10000\n",
      "weighted avg       0.95      0.95      0.95     10000\n",
      "\n"
     ]
    }
   ],
   "source": [
    "print(classification_report(y_test, y_pred_test))"
   ]
  },
  {
   "cell_type": "markdown",
   "metadata": {},
   "source": [
    "### Experiment Model 2:\n",
    "- One hidden layer\n",
    "- 400 nodes"
   ]
  },
  {
   "cell_type": "code",
   "execution_count": 25,
   "metadata": {},
   "outputs": [
    {
     "name": "stdout",
     "output_type": "stream",
     "text": [
      "Train on 48000 samples, validate on 12000 samples\n",
      "Epoch 1/25\n",
      "48000/48000 [==============================] - 3s 72us/step - loss: 8.6442 - acc: 0.4583 - val_loss: 5.9293 - val_acc: 0.6282\n",
      "Epoch 2/25\n",
      "48000/48000 [==============================] - 3s 67us/step - loss: 5.2252 - acc: 0.6710 - val_loss: 4.3817 - val_acc: 0.7243\n",
      "Epoch 3/25\n",
      "48000/48000 [==============================] - 3s 65us/step - loss: 4.4012 - acc: 0.7233 - val_loss: 4.2543 - val_acc: 0.7327\n",
      "Epoch 4/25\n",
      "48000/48000 [==============================] - 4s 77us/step - loss: 4.2389 - acc: 0.7337 - val_loss: 4.2006 - val_acc: 0.7361\n",
      "Epoch 5/25\n",
      "48000/48000 [==============================] - 3s 72us/step - loss: 4.1086 - acc: 0.7423 - val_loss: 4.3785 - val_acc: 0.7246\n",
      "Epoch 6/25\n",
      "48000/48000 [==============================] - 4s 75us/step - loss: 3.9916 - acc: 0.7496 - val_loss: 3.9397 - val_acc: 0.7529\n",
      "Epoch 7/25\n",
      "48000/48000 [==============================] - 3s 60us/step - loss: 3.9944 - acc: 0.7500 - val_loss: 3.9779 - val_acc: 0.7517\n",
      "Epoch 8/25\n",
      "48000/48000 [==============================] - 3s 63us/step - loss: 3.9330 - acc: 0.7538 - val_loss: 4.0252 - val_acc: 0.7474\n",
      "Epoch 9/25\n",
      "48000/48000 [==============================] - 2s 42us/step - loss: 3.8676 - acc: 0.7580 - val_loss: 3.9446 - val_acc: 0.7527\n",
      "Epoch 10/25\n",
      "48000/48000 [==============================] - 3s 57us/step - loss: 3.8308 - acc: 0.7606 - val_loss: 4.0912 - val_acc: 0.7444\n",
      "Epoch 11/25\n",
      "48000/48000 [==============================] - 2s 40us/step - loss: 3.7856 - acc: 0.7632 - val_loss: 3.6730 - val_acc: 0.7697\n",
      "Epoch 12/25\n",
      "48000/48000 [==============================] - 1s 31us/step - loss: 2.4570 - acc: 0.8448 - val_loss: 2.3895 - val_acc: 0.8490\n",
      "Epoch 13/25\n",
      "48000/48000 [==============================] - 1s 31us/step - loss: 2.2841 - acc: 0.8561 - val_loss: 2.4156 - val_acc: 0.8467\n",
      "Epoch 14/25\n",
      "48000/48000 [==============================] - 2s 39us/step - loss: 2.2576 - acc: 0.8580 - val_loss: 2.2192 - val_acc: 0.8601\n",
      "Epoch 15/25\n",
      "48000/48000 [==============================] - 1s 30us/step - loss: 2.1691 - acc: 0.8634 - val_loss: 2.3833 - val_acc: 0.8493\n",
      "Epoch 16/25\n",
      "48000/48000 [==============================] - 1s 30us/step - loss: 2.1659 - acc: 0.8636 - val_loss: 2.2563 - val_acc: 0.8578\n",
      "Epoch 17/25\n",
      "48000/48000 [==============================] - 2s 37us/step - loss: 2.1629 - acc: 0.8640 - val_loss: 2.1897 - val_acc: 0.8627\n",
      "Epoch 18/25\n",
      "48000/48000 [==============================] - 2s 32us/step - loss: 2.1220 - acc: 0.8665 - val_loss: 2.1544 - val_acc: 0.8653\n",
      "Epoch 19/25\n",
      "48000/48000 [==============================] - 1s 30us/step - loss: 2.0869 - acc: 0.8688 - val_loss: 2.1806 - val_acc: 0.8633\n",
      "Epoch 20/25\n",
      "48000/48000 [==============================] - 1s 30us/step - loss: 2.0810 - acc: 0.8691 - val_loss: 2.2858 - val_acc: 0.8560\n",
      "Epoch 21/25\n",
      "48000/48000 [==============================] - 1s 31us/step - loss: 2.0585 - acc: 0.8708 - val_loss: 2.1244 - val_acc: 0.8667\n",
      "Epoch 22/25\n",
      "48000/48000 [==============================] - 1s 30us/step - loss: 2.0675 - acc: 0.8701 - val_loss: 2.1098 - val_acc: 0.8675\n",
      "Epoch 23/25\n",
      "48000/48000 [==============================] - 1s 30us/step - loss: 2.0192 - acc: 0.8732 - val_loss: 2.0651 - val_acc: 0.8705\n",
      "Epoch 24/25\n",
      "48000/48000 [==============================] - 2s 32us/step - loss: 2.0247 - acc: 0.8728 - val_loss: 2.0893 - val_acc: 0.8688\n",
      "Epoch 25/25\n",
      "48000/48000 [==============================] - 1s 30us/step - loss: 2.0066 - acc: 0.8743 - val_loss: 2.0671 - val_acc: 0.8708\n"
     ]
    }
   ],
   "source": [
    "model_experiment2 = models.Sequential()\n",
    "model_experiment2.add(layers.Dense(400, activation = 'relu', input_shape = (784,)))\n",
    "model_experiment2.add(layers.Dense(10, activation = 'softmax'))\n",
    "\n",
    "# Compile the model\n",
    "model_experiment2.compile(optimizer = 'rmsprop', loss = 'categorical_crossentropy', metrics = ['accuracy'])\n",
    "\n",
    "# Fit the model\n",
    "eps = 25\n",
    "history = model_experiment2.fit(x_train_part, y_train_part, batch_size = 1024, epochs = eps, validation_data = (x_train_val, y_train_val))"
   ]
  },
  {
   "cell_type": "code",
   "execution_count": 26,
   "metadata": {},
   "outputs": [
    {
     "data": {
      "image/png": "[encoded data removed]",
      "text/plain": [
       "<Figure size 432x288 with 1 Axes>"
      ]
     },
     "metadata": {
      "needs_background": "light"
     },
     "output_type": "display_data"
    }
   ],
   "source": [
    "# Plot the learning parameters\n",
    "history_dict = history.history\n",
    "loss_values = history_dict['loss']\n",
    "val_loss_values = history_dict['val_loss']\n",
    "\n",
    "epochs = range(1, eps + 1)\n",
    "\n",
    "plt.plot(epochs, loss_values, 'g', label = 'Training Loss')\n",
    "plt.plot(epochs, val_loss_values, 'b', label = 'Validation Loss')\n",
    "plt.title('Training and Validation Loss')\n",
    "plt.xlabel('Epochs')\n",
    "plt.ylabel('Loss')\n",
    "plt.legend()\n",
    "\n",
    "plt.show()"
   ]
  },
  {
   "cell_type": "code",
   "execution_count": 27,
   "metadata": {},
   "outputs": [
    {
     "data": {
      "image/png": "[encoded data removed]",
      "text/plain": [
       "<Figure size 432x288 with 1 Axes>"
      ]
     },
     "metadata": {
      "needs_background": "light"
     },
     "output_type": "display_data"
    }
   ],
   "source": [
    "plt.clf()\n",
    "\n",
    "acc_values = history_dict['acc']\n",
    "val_acc_values = history_dict['val_acc']\n",
    "\n",
    "plt.plot(epochs, acc_values, 'g', label = 'Training Accuracy')\n",
    "plt.plot(epochs, val_acc_values, 'b', label = 'Validation Accuracy')\n",
    "plt.title('Training and Validation Accuracy')\n",
    "plt.xlabel('Epochs')\n",
    "plt.ylabel('Accuracy')\n",
    "plt.legend()\n",
    "\n",
    "plt.show()"
   ]
  },
  {
   "cell_type": "code",
   "execution_count": 28,
   "metadata": {},
   "outputs": [
    {
     "data": {
      "text/plain": [
       "array([[ 970,    0,    0,    1,    0,    3,    1,    3,    2,    0],\n",
       "       [   1, 1123,    0,    3,    0,    1,    1,    2,    4,    0],\n",
       "       [ 107,   76,    0,  459,   45,    4,   57,   97,  174,   13],\n",
       "       [   4,    0,    0,  960,    0,   13,    0,    8,   19,    6],\n",
       "       [   3,    0,    0,    0,  958,    0,    6,    2,    1,   12],\n",
       "       [   6,    0,    0,    3,    0,  875,    3,    0,    2,    3],\n",
       "       [  17,    5,    0,    0,    3,   14,  914,    1,    4,    0],\n",
       "       [   1,    6,    0,    3,    8,    1,    0,  993,    1,   15],\n",
       "       [  12,    0,    0,    5,    6,   17,    2,    7,  923,    2],\n",
       "       [   8,    4,    0,    2,   18,    3,    1,    8,    5,  960]])"
      ]
     },
     "execution_count": 28,
     "metadata": {},
     "output_type": "execute_result"
    }
   ],
   "source": [
    "# Examine the confusion\n",
    "y_pred = model_experiment2.predict(x_test.reshape(10000, 28 * 28))\n",
    "y_pred_test = np.argmax(y_pred, axis = 1)\n",
    "\n",
    "confusion_matrix(y_test, y_pred_test)"
   ]
  },
  {
   "cell_type": "code",
   "execution_count": 29,
   "metadata": {},
   "outputs": [
    {
     "name": "stdout",
     "output_type": "stream",
     "text": [
      "              precision    recall  f1-score   support\n",
      "\n",
      "           0       0.86      0.99      0.92       980\n",
      "           1       0.93      0.99      0.96      1135\n",
      "           2       0.00      0.00      0.00      1032\n",
      "           3       0.67      0.95      0.78      1010\n",
      "           4       0.92      0.98      0.95       982\n",
      "           5       0.94      0.98      0.96       892\n",
      "           6       0.93      0.95      0.94       958\n",
      "           7       0.89      0.97      0.92      1028\n",
      "           8       0.81      0.95      0.88       974\n",
      "           9       0.95      0.95      0.95      1009\n",
      "\n",
      "   micro avg       0.87      0.87      0.87     10000\n",
      "   macro avg       0.79      0.87      0.83     10000\n",
      "weighted avg       0.79      0.87      0.82     10000\n",
      "\n"
     ]
    }
   ],
   "source": [
    "print(classification_report(y_test, y_pred_test))"
   ]
  },
  {
   "cell_type": "markdown",
   "metadata": {},
   "source": [
    "### Experiment 3:\n",
    "- Two hidden layers\n",
    "- 200 & 200 nodes"
   ]
  },
  {
   "cell_type": "code",
   "execution_count": 53,
   "metadata": {},
   "outputs": [
    {
     "name": "stdout",
     "output_type": "stream",
     "text": [
      "Train on 48000 samples, validate on 12000 samples\n",
      "Epoch 1/25\n",
      "48000/48000 [==============================] - 3s 71us/step - loss: 12.2024 - acc: 0.2413 - val_loss: 11.6141 - val_acc: 0.2784\n",
      "Epoch 2/25\n",
      "48000/48000 [==============================] - 3s 56us/step - loss: 10.2438 - acc: 0.3628 - val_loss: 9.9867 - val_acc: 0.3790\n",
      "Epoch 3/25\n",
      "48000/48000 [==============================] - 3s 53us/step - loss: 9.8453 - acc: 0.3879 - val_loss: 9.9229 - val_acc: 0.3833\n",
      "Epoch 4/25\n",
      "48000/48000 [==============================] - 3s 65us/step - loss: 8.6781 - acc: 0.4596 - val_loss: 8.2774 - val_acc: 0.4845\n",
      "Epoch 5/25\n",
      "48000/48000 [==============================] - 3s 68us/step - loss: 8.2114 - acc: 0.4891 - val_loss: 8.2891 - val_acc: 0.4847\n",
      "Epoch 6/25\n",
      "48000/48000 [==============================] - 4s 76us/step - loss: 8.1952 - acc: 0.4905 - val_loss: 8.1754 - val_acc: 0.4912\n",
      "Epoch 7/25\n",
      "48000/48000 [==============================] - 4s 82us/step - loss: 8.1577 - acc: 0.4932 - val_loss: 8.3103 - val_acc: 0.4834\n",
      "Epoch 8/25\n",
      "48000/48000 [==============================] - 3s 72us/step - loss: 6.9343 - acc: 0.5679 - val_loss: 6.6894 - val_acc: 0.5837\n",
      "Epoch 9/25\n",
      "48000/48000 [==============================] - 2s 38us/step - loss: 6.6465 - acc: 0.5862 - val_loss: 6.6378 - val_acc: 0.5872\n",
      "Epoch 10/25\n",
      "48000/48000 [==============================] - 2s 38us/step - loss: 6.6037 - acc: 0.5891 - val_loss: 6.6635 - val_acc: 0.5853\n",
      "Epoch 11/25\n",
      "48000/48000 [==============================] - 2s 41us/step - loss: 6.5520 - acc: 0.5924 - val_loss: 6.2562 - val_acc: 0.6057\n",
      "Epoch 12/25\n",
      "48000/48000 [==============================] - 2s 49us/step - loss: 5.3051 - acc: 0.6682 - val_loss: 5.1818 - val_acc: 0.6765\n",
      "Epoch 13/25\n",
      "48000/48000 [==============================] - 2s 46us/step - loss: 5.0907 - acc: 0.6823 - val_loss: 5.1844 - val_acc: 0.6759\n",
      "Epoch 14/25\n",
      "48000/48000 [==============================] - 3s 70us/step - loss: 5.0346 - acc: 0.6862 - val_loss: 5.2673 - val_acc: 0.6711\n",
      "Epoch 15/25\n",
      "48000/48000 [==============================] - 3s 66us/step - loss: 5.0675 - acc: 0.6841 - val_loss: 5.0666 - val_acc: 0.6848\n",
      "Epoch 16/25\n",
      "48000/48000 [==============================] - 3s 63us/step - loss: 5.0060 - acc: 0.6882 - val_loss: 5.1188 - val_acc: 0.6812\n",
      "Epoch 17/25\n",
      "48000/48000 [==============================] - 3s 65us/step - loss: 5.0355 - acc: 0.6864 - val_loss: 5.0525 - val_acc: 0.6855\n",
      "Epoch 18/25\n",
      "48000/48000 [==============================] - 3s 65us/step - loss: 4.9989 - acc: 0.6888 - val_loss: 5.1482 - val_acc: 0.6792\n",
      "Epoch 19/25\n",
      "48000/48000 [==============================] - 3s 67us/step - loss: 4.9690 - acc: 0.6908 - val_loss: 5.0114 - val_acc: 0.6881\n",
      "Epoch 20/25\n",
      "48000/48000 [==============================] - 3s 68us/step - loss: 4.9684 - acc: 0.6906 - val_loss: 5.1708 - val_acc: 0.6773\n",
      "Epoch 21/25\n",
      "48000/48000 [==============================] - 3s 61us/step - loss: 4.9533 - acc: 0.6915 - val_loss: 5.0315 - val_acc: 0.6866\n",
      "Epoch 22/25\n",
      "48000/48000 [==============================] - 3s 59us/step - loss: 4.9500 - acc: 0.6917 - val_loss: 5.0433 - val_acc: 0.6855\n",
      "Epoch 23/25\n",
      "48000/48000 [==============================] - 3s 60us/step - loss: 4.9354 - acc: 0.6931 - val_loss: 4.9951 - val_acc: 0.6892\n",
      "Epoch 24/25\n",
      "48000/48000 [==============================] - 3s 60us/step - loss: 4.9325 - acc: 0.6933 - val_loss: 5.0142 - val_acc: 0.6878\n",
      "Epoch 25/25\n",
      "48000/48000 [==============================] - 3s 60us/step - loss: 4.9614 - acc: 0.6912 - val_loss: 5.0294 - val_acc: 0.6868\n"
     ]
    }
   ],
   "source": [
    "model_experiment4 = models.Sequential()\n",
    "model_experiment4.add(layers.Dense(200, activation = 'relu', input_shape = (784,)))\n",
    "model_experiment4.add(layers.Dense(200, activation = 'relu'))\n",
    "model_experiment4.add(layers.Dense(10, activation = 'softmax'))\n",
    "\n",
    "# Compile the model\n",
    "model_experiment4.compile(optimizer = 'rmsprop', loss = 'categorical_crossentropy', metrics = ['accuracy'])\n",
    "\n",
    "# Fit the model\n",
    "eps = 25\n",
    "history = model_experiment4.fit(x_train_part, y_train_part, batch_size = 1024, epochs = eps, validation_data = (x_train_val, y_train_val))"
   ]
  },
  {
   "cell_type": "code",
   "execution_count": 54,
   "metadata": {},
   "outputs": [
    {
     "data": {
      "image/png": "[encoded data removed]",
      "text/plain": [
       "<Figure size 432x288 with 1 Axes>"
      ]
     },
     "metadata": {
      "needs_background": "light"
     },
     "output_type": "display_data"
    }
   ],
   "source": [
    "# Plot the learning parameters\n",
    "import matplotlib.pyplot as plt\n",
    "\n",
    "history_dict = history.history\n",
    "loss_values = history_dict['loss']\n",
    "val_loss_values = history_dict['val_loss']\n",
    "\n",
    "epochs = range(1, eps + 1)\n",
    "\n",
    "plt.plot(epochs, loss_values, 'g', label = 'Training Loss')\n",
    "plt.plot(epochs, val_loss_values, 'b', label = 'Validation Loss')\n",
    "plt.xlabel('Epochs')\n",
    "plt.ylabel('Loss')\n",
    "plt.legend()\n",
    "\n",
    "plt.show()"
   ]
  },
  {
   "cell_type": "code",
   "execution_count": 55,
   "metadata": {},
   "outputs": [
    {
     "data": {
      "image/png": "[encoded data removed]",
      "text/plain": [
       "<Figure size 432x288 with 1 Axes>"
      ]
     },
     "metadata": {
      "needs_background": "light"
     },
     "output_type": "display_data"
    }
   ],
   "source": [
    "plt.clf()\n",
    "\n",
    "acc_values = history_dict['acc']\n",
    "val_acc_values = history_dict['val_acc']\n",
    "\n",
    "plt.plot(epochs, acc_values, 'g', label = 'Training Accuracy')\n",
    "plt.plot(epochs, val_acc_values, 'b', label = 'Validation Accuracy')\n",
    "plt.title('Training and Validation Accuracy')\n",
    "plt.xlabel('Epochs')\n",
    "plt.ylabel('Accuracy')\n",
    "plt.legend()\n",
    "\n",
    "plt.show()"
   ]
  },
  {
   "cell_type": "code",
   "execution_count": 56,
   "metadata": {},
   "outputs": [
    {
     "data": {
      "text/plain": [
       "array([[  0,  37,   0,   0,   0,   7,   7, 701, 147,  81],\n",
       "       [  1,   4,   0,   0,   0,  96, 406, 232,  96, 300],\n",
       "       [  0, 135,   2,   0,   0,  22, 107, 508, 208,  50],\n",
       "       [  3,  82,   1,   0,   0,  45, 119, 512, 198,  50],\n",
       "       [  4, 116,   0,   0,   0,  14, 136, 584,  30,  98],\n",
       "       [  3,  96,   0,   0,   0,  38,  65, 509,  82,  99],\n",
       "       [  0,  36,   0,   0,   0,  32,  23, 788,  30,  49],\n",
       "       [  1, 115,   0,   0,   0,  43, 146, 322, 247, 154],\n",
       "       [  3, 188,   0,   0,   0,  49,  43, 465,  74, 152],\n",
       "       [  6,  63,   0,   0,   0,  35,  63, 612,  80, 150]])"
      ]
     },
     "execution_count": 56,
     "metadata": {},
     "output_type": "execute_result"
    }
   ],
   "source": [
    "# Examine the confusion\n",
    "y_pred = model_experiment3.predict(x_test.reshape(10000, 28 * 28))\n",
    "y_pred_test = np.argmax(y_pred, axis = 1)\n",
    "\n",
    "confusion_matrix(y_test, y_pred_test)"
   ]
  },
  {
   "cell_type": "code",
   "execution_count": 57,
   "metadata": {},
   "outputs": [
    {
     "name": "stdout",
     "output_type": "stream",
     "text": [
      "              precision    recall  f1-score   support\n",
      "\n",
      "           0       0.00      0.00      0.00       980\n",
      "           1       0.00      0.00      0.00      1135\n",
      "           2       0.67      0.00      0.00      1032\n",
      "           3       0.00      0.00      0.00      1010\n",
      "           4       0.00      0.00      0.00       982\n",
      "           5       0.10      0.04      0.06       892\n",
      "           6       0.02      0.02      0.02       958\n",
      "           7       0.06      0.31      0.10      1028\n",
      "           8       0.06      0.08      0.07       974\n",
      "           9       0.13      0.15      0.14      1009\n",
      "\n",
      "   micro avg       0.06      0.06      0.06     10000\n",
      "   macro avg       0.10      0.06      0.04     10000\n",
      "weighted avg       0.11      0.06      0.04     10000\n",
      "\n"
     ]
    }
   ],
   "source": [
    "print(classification_report(y_test, y_pred_test))"
   ]
  },
  {
   "cell_type": "markdown",
   "metadata": {},
   "source": [
    "### Experiment Model 4:\n",
    "- Two hidden layers\n",
    "- 200 & 100 nodes"
   ]
  },
  {
   "cell_type": "code",
   "execution_count": 46,
   "metadata": {},
   "outputs": [
    {
     "name": "stdout",
     "output_type": "stream",
     "text": [
      "Train on 48000 samples, validate on 12000 samples\n",
      "Epoch 1/25\n",
      "48000/48000 [==============================] - 3s 61us/step - loss: 7.3452 - acc: 0.5358 - val_loss: 5.9676 - val_acc: 0.6230\n",
      "Epoch 2/25\n",
      "48000/48000 [==============================] - 2s 47us/step - loss: 5.8044 - acc: 0.6353 - val_loss: 5.6704 - val_acc: 0.6440\n",
      "Epoch 3/25\n",
      "48000/48000 [==============================] - 2s 49us/step - loss: 5.6237 - acc: 0.6477 - val_loss: 6.0932 - val_acc: 0.6174\n",
      "Epoch 4/25\n",
      "48000/48000 [==============================] - 3s 55us/step - loss: 5.3896 - acc: 0.6613 - val_loss: 4.3667 - val_acc: 0.7239\n",
      "Epoch 5/25\n",
      "48000/48000 [==============================] - 3s 61us/step - loss: 4.2147 - acc: 0.7334 - val_loss: 4.1101 - val_acc: 0.7401\n",
      "Epoch 6/25\n",
      "48000/48000 [==============================] - 3s 58us/step - loss: 3.2435 - acc: 0.7938 - val_loss: 2.3574 - val_acc: 0.8478\n",
      "Epoch 7/25\n",
      "48000/48000 [==============================] - 3s 55us/step - loss: 2.2233 - acc: 0.8571 - val_loss: 1.4845 - val_acc: 0.8981\n",
      "Epoch 8/25\n",
      "48000/48000 [==============================] - 3s 59us/step - loss: 1.0315 - acc: 0.9299 - val_loss: 0.9253 - val_acc: 0.9372\n",
      "Epoch 9/25\n",
      "48000/48000 [==============================] - 3s 62us/step - loss: 0.7845 - acc: 0.9461 - val_loss: 0.9745 - val_acc: 0.9333\n",
      "Epoch 10/25\n",
      "48000/48000 [==============================] - 3s 62us/step - loss: 0.7414 - acc: 0.9496 - val_loss: 0.7624 - val_acc: 0.9480\n",
      "Epoch 11/25\n",
      "48000/48000 [==============================] - 3s 65us/step - loss: 0.6929 - acc: 0.9531 - val_loss: 0.7360 - val_acc: 0.9511\n",
      "Epoch 12/25\n",
      "48000/48000 [==============================] - 3s 62us/step - loss: 0.6157 - acc: 0.9577 - val_loss: 0.8813 - val_acc: 0.9397\n",
      "Epoch 13/25\n",
      "48000/48000 [==============================] - 3s 59us/step - loss: 0.6106 - acc: 0.9585 - val_loss: 0.6763 - val_acc: 0.9542\n",
      "Epoch 14/25\n",
      "48000/48000 [==============================] - 3s 56us/step - loss: 0.5983 - acc: 0.9592 - val_loss: 0.8584 - val_acc: 0.9424\n",
      "Epoch 15/25\n",
      "48000/48000 [==============================] - 2s 51us/step - loss: 0.5610 - acc: 0.9619 - val_loss: 0.6753 - val_acc: 0.9543\n",
      "Epoch 16/25\n",
      "48000/48000 [==============================] - 2s 49us/step - loss: 0.5320 - acc: 0.9637 - val_loss: 0.5960 - val_acc: 0.9598\n",
      "Epoch 17/25\n",
      "48000/48000 [==============================] - 2s 40us/step - loss: 0.5193 - acc: 0.9644 - val_loss: 0.7243 - val_acc: 0.9514\n",
      "Epoch 18/25\n",
      "48000/48000 [==============================] - 3s 58us/step - loss: 0.4806 - acc: 0.9675 - val_loss: 0.6225 - val_acc: 0.9583\n",
      "Epoch 19/25\n",
      "48000/48000 [==============================] - 3s 61us/step - loss: 0.4875 - acc: 0.9668 - val_loss: 0.6369 - val_acc: 0.9576\n",
      "Epoch 20/25\n",
      "48000/48000 [==============================] - 3s 54us/step - loss: 0.4724 - acc: 0.9682 - val_loss: 0.5377 - val_acc: 0.9641\n",
      "Epoch 21/25\n",
      "48000/48000 [==============================] - 3s 59us/step - loss: 0.4445 - acc: 0.9704 - val_loss: 0.5745 - val_acc: 0.9618\n",
      "Epoch 22/25\n",
      "48000/48000 [==============================] - 3s 64us/step - loss: 0.4484 - acc: 0.9699 - val_loss: 0.7304 - val_acc: 0.9518\n",
      "Epoch 23/25\n",
      "48000/48000 [==============================] - 3s 58us/step - loss: 0.4331 - acc: 0.9704 - val_loss: 0.5414 - val_acc: 0.9640\n",
      "Epoch 24/25\n",
      "48000/48000 [==============================] - 3s 55us/step - loss: 0.4138 - acc: 0.9724 - val_loss: 0.5136 - val_acc: 0.9652\n",
      "Epoch 25/25\n",
      "48000/48000 [==============================] - 3s 60us/step - loss: 0.4279 - acc: 0.9714 - val_loss: 0.5826 - val_acc: 0.9614\n"
     ]
    }
   ],
   "source": [
    "model_experiment4 = models.Sequential()\n",
    "model_experiment4.add(layers.Dense(200, activation = 'relu', input_shape = (784,)))\n",
    "model_experiment4.add(layers.Dense(100, activation = 'relu'))\n",
    "model_experiment4.add(layers.Dense(10, activation = 'softmax'))\n",
    "\n",
    "# Compile the model\n",
    "model_experiment4.compile(optimizer = 'rmsprop', loss = 'categorical_crossentropy', metrics = ['accuracy'])\n",
    "\n",
    "# Fit the model\n",
    "eps = 25\n",
    "history = model_experiment4.fit(x_train_part, y_train_part, batch_size = 1024, epochs = eps, validation_data = (x_train_val, y_train_val))"
   ]
  },
  {
   "cell_type": "code",
   "execution_count": 47,
   "metadata": {},
   "outputs": [
    {
     "data": {
      "image/png": "[encoded data removed]",
      "text/plain": [
       "<Figure size 432x288 with 1 Axes>"
      ]
     },
     "metadata": {
      "needs_background": "light"
     },
     "output_type": "display_data"
    }
   ],
   "source": [
    "# Plot the learning parameters\n",
    "import matplotlib.pyplot as plt\n",
    "\n",
    "history_dict = history.history\n",
    "loss_values = history_dict['loss']\n",
    "val_loss_values = history_dict['val_loss']\n",
    "\n",
    "epochs = range(1, eps + 1)\n",
    "\n",
    "plt.plot(epochs, loss_values, 'g', label = 'Training Loss')\n",
    "plt.plot(epochs, val_loss_values, 'b', label = 'Validation Loss')\n",
    "plt.xlabel('Epochs')\n",
    "plt.ylabel('Loss')\n",
    "plt.legend()\n",
    "\n",
    "plt.show()"
   ]
  },
  {
   "cell_type": "code",
   "execution_count": 48,
   "metadata": {},
   "outputs": [
    {
     "data": {
      "image/png": "[encoded data removed]",
      "text/plain": [
       "<Figure size 432x288 with 1 Axes>"
      ]
     },
     "metadata": {
      "needs_background": "light"
     },
     "output_type": "display_data"
    }
   ],
   "source": [
    "plt.clf()\n",
    "\n",
    "acc_values = history_dict['acc']\n",
    "val_acc_values = history_dict['val_acc']\n",
    "\n",
    "plt.plot(epochs, acc_values, 'g', label = 'Training Accuracy')\n",
    "plt.plot(epochs, val_acc_values, 'b', label = 'Validation Accuracy')\n",
    "plt.title('Training and Validation Accuracy')\n",
    "plt.xlabel('Epochs')\n",
    "plt.ylabel('Accuracy')\n",
    "plt.legend()\n",
    "\n",
    "plt.show()"
   ]
  },
  {
   "cell_type": "code",
   "execution_count": 49,
   "metadata": {},
   "outputs": [
    {
     "data": {
      "text/plain": [
       "array([[ 954,    0,    1,    1,    3,    8,    1,    2,    3,    7],\n",
       "       [   0, 1110,    4,    3,    0,    1,    1,    5,   11,    0],\n",
       "       [   6,    1,  984,   11,    4,    1,    3,   12,   10,    0],\n",
       "       [   0,    0,    8,  974,    1,   12,    0,    7,    5,    3],\n",
       "       [   0,    1,    5,    0,  948,    0,    1,    3,    4,   20],\n",
       "       [   2,    0,    0,    7,    3,  872,    3,    1,    2,    2],\n",
       "       [  12,    3,    1,    1,   14,   18,  903,    2,    4,    0],\n",
       "       [   0,    3,   19,    5,    1,    0,    0,  987,    1,   12],\n",
       "       [   3,    0,    4,   18,    6,   21,    1,   11,  904,    6],\n",
       "       [   3,    4,    0,   13,   11,    9,    0,    9,    4,  956]])"
      ]
     },
     "execution_count": 49,
     "metadata": {},
     "output_type": "execute_result"
    }
   ],
   "source": [
    "# Examine the confusion\n",
    "y_pred = model_experiment4.predict(x_test.reshape(10000, 28 * 28))\n",
    "y_pred_test = np.argmax(y_pred, axis = 1)\n",
    "\n",
    "confusion_matrix(y_test, y_pred_test)"
   ]
  },
  {
   "cell_type": "code",
   "execution_count": 50,
   "metadata": {},
   "outputs": [
    {
     "name": "stdout",
     "output_type": "stream",
     "text": [
      "              precision    recall  f1-score   support\n",
      "\n",
      "           0       0.97      0.97      0.97       980\n",
      "           1       0.99      0.98      0.98      1135\n",
      "           2       0.96      0.95      0.96      1032\n",
      "           3       0.94      0.96      0.95      1010\n",
      "           4       0.96      0.97      0.96       982\n",
      "           5       0.93      0.98      0.95       892\n",
      "           6       0.99      0.94      0.97       958\n",
      "           7       0.95      0.96      0.96      1028\n",
      "           8       0.95      0.93      0.94       974\n",
      "           9       0.95      0.95      0.95      1009\n",
      "\n",
      "   micro avg       0.96      0.96      0.96     10000\n",
      "   macro avg       0.96      0.96      0.96     10000\n",
      "weighted avg       0.96      0.96      0.96     10000\n",
      "\n"
     ]
    }
   ],
   "source": [
    "print(classification_report(y_test, y_pred_test))"
   ]
  },
  {
   "cell_type": "markdown",
   "metadata": {},
   "source": [
    "### Which model gives the best accuracy?  Which the best overall F1 score?\n",
    "Experiment Model 4 has the best accuracy of 97.14%, and Experiment Model 1 being a close second with 95.89%.\n",
    "Experiment Model 4 has the best F1 score of 0.96, and Experiment Model 1 being a close second with 0.95."
   ]
  },
  {
   "cell_type": "markdown",
   "metadata": {},
   "source": [
    "### Which model gives the worst accuracy?  Which the worst overall F1 score?\n",
    "Experiment Model 3 has the worst accuracy of 69.14%, and the worst F1 score of 0.04."
   ]
  },
  {
   "cell_type": "markdown",
   "metadata": {},
   "source": [
    "### What is the shape of the training set?  How many nodes are in the input layer of the network?\n",
    "The training set is 60,000 images that are 28 x 28 pixels each. This means that the input data is a rank 3 tensor that is 28 x 28 x 60000 in size. There are 784 nodes in the input layer. This is because each picture is a total of 784 pixels (28 x 28)."
   ]
  },
  {
   "cell_type": "markdown",
   "metadata": {},
   "source": [
    "### Why do you think the best/worst networks are that way?\n",
    "Experiment Models 1 and 4 use a number of nodes that funnel the data through the neural network in an effective way, leading to the better learning results. Experiment Model 3 is the worst because after the data makes it through the first layer of 200 nodes, it must also be computed through a second layer of 200 nodes, causing an effecient funneling of the data. This causes some confusion in the neural network."
   ]
  },
  {
   "cell_type": "markdown",
   "metadata": {},
   "source": [
    "### Experiment and try to create a better performing network.  Explain what you tried and document the results."
   ]
  },
  {
   "cell_type": "markdown",
   "metadata": {},
   "source": [
    "Given the accuracy and F1 scores of Experiment Models 1 and 4, it seems as though using 200 nodes in the first hidden layer is the most effective. Model 4 has a slightly higher accuracy and F1 score, leading me to believe that using a second, somewhat smaller hidden layer, is more effective than 1. Starting off, re-run Model 4 with 50 epochs."
   ]
  },
  {
   "cell_type": "code",
   "execution_count": 60,
   "metadata": {},
   "outputs": [
    {
     "name": "stdout",
     "output_type": "stream",
     "text": [
      "Train on 48000 samples, validate on 12000 samples\n",
      "Epoch 1/50\n",
      "48000/48000 [==============================] - 6s 133us/step - loss: 7.5048 - acc: 0.5240 - val_loss: 5.9551 - val_acc: 0.6226\n",
      "Epoch 2/50\n",
      "48000/48000 [==============================] - 3s 61us/step - loss: 5.7916 - acc: 0.6343 - val_loss: 5.5273 - val_acc: 0.6520\n",
      "Epoch 3/50\n",
      "48000/48000 [==============================] - 3s 62us/step - loss: 5.5513 - acc: 0.6504 - val_loss: 5.4209 - val_acc: 0.6594\n",
      "Epoch 4/50\n",
      "48000/48000 [==============================] - 3s 62us/step - loss: 5.4092 - acc: 0.6598 - val_loss: 5.5195 - val_acc: 0.6516\n",
      "Epoch 5/50\n",
      "48000/48000 [==============================] - 3s 63us/step - loss: 5.0624 - acc: 0.6804 - val_loss: 4.1946 - val_acc: 0.7322\n",
      "Epoch 6/50\n",
      "48000/48000 [==============================] - 3s 63us/step - loss: 3.9937 - acc: 0.7464 - val_loss: 4.4748 - val_acc: 0.7136\n",
      "Epoch 7/50\n",
      "48000/48000 [==============================] - 3s 56us/step - loss: 3.8655 - acc: 0.7551 - val_loss: 3.9869 - val_acc: 0.7475\n",
      "Epoch 8/50\n",
      "48000/48000 [==============================] - 3s 56us/step - loss: 3.8129 - acc: 0.7588 - val_loss: 4.0381 - val_acc: 0.7451\n",
      "Epoch 9/50\n",
      "48000/48000 [==============================] - 3s 58us/step - loss: 2.6838 - acc: 0.8282 - val_loss: 2.4335 - val_acc: 0.8430\n",
      "Epoch 10/50\n",
      "48000/48000 [==============================] - 3s 67us/step - loss: 2.2496 - acc: 0.8561 - val_loss: 2.3040 - val_acc: 0.8530\n",
      "Epoch 11/50\n",
      "48000/48000 [==============================] - 3s 53us/step - loss: 2.1705 - acc: 0.8615 - val_loss: 2.3185 - val_acc: 0.8522\n",
      "Epoch 12/50\n",
      "48000/48000 [==============================] - 3s 61us/step - loss: 2.1326 - acc: 0.8639 - val_loss: 2.4482 - val_acc: 0.8432\n",
      "Epoch 13/50\n",
      "48000/48000 [==============================] - 2s 52us/step - loss: 2.1379 - acc: 0.8639 - val_loss: 2.2604 - val_acc: 0.8555\n",
      "Epoch 14/50\n",
      "48000/48000 [==============================] - 3s 55us/step - loss: 2.0862 - acc: 0.8674 - val_loss: 2.2908 - val_acc: 0.8533\n",
      "Epoch 15/50\n",
      "48000/48000 [==============================] - 2s 49us/step - loss: 2.0731 - acc: 0.8680 - val_loss: 2.1014 - val_acc: 0.8661\n",
      "Epoch 16/50\n",
      "48000/48000 [==============================] - 3s 63us/step - loss: 2.0442 - acc: 0.8705 - val_loss: 2.1746 - val_acc: 0.8608\n",
      "Epoch 17/50\n",
      "48000/48000 [==============================] - 3s 56us/step - loss: 2.0267 - acc: 0.8716 - val_loss: 2.1251 - val_acc: 0.8652\n",
      "Epoch 18/50\n",
      "48000/48000 [==============================] - 3s 63us/step - loss: 2.0207 - acc: 0.8721 - val_loss: 2.1213 - val_acc: 0.8653\n",
      "Epoch 19/50\n",
      "48000/48000 [==============================] - 3s 62us/step - loss: 2.0262 - acc: 0.8718 - val_loss: 2.0806 - val_acc: 0.8687\n",
      "Epoch 20/50\n",
      "48000/48000 [==============================] - 3s 62us/step - loss: 1.9962 - acc: 0.8736 - val_loss: 2.0832 - val_acc: 0.8680\n",
      "Epoch 21/50\n",
      "48000/48000 [==============================] - 3s 59us/step - loss: 1.9947 - acc: 0.8736 - val_loss: 2.1040 - val_acc: 0.8659\n",
      "Epoch 22/50\n",
      "48000/48000 [==============================] - 3s 67us/step - loss: 1.9705 - acc: 0.8756 - val_loss: 2.1135 - val_acc: 0.8657\n",
      "Epoch 23/50\n",
      "48000/48000 [==============================] - 3s 58us/step - loss: 1.9582 - acc: 0.8762 - val_loss: 2.0817 - val_acc: 0.8679\n",
      "Epoch 24/50\n",
      "48000/48000 [==============================] - 3s 61us/step - loss: 1.9530 - acc: 0.8768 - val_loss: 2.1027 - val_acc: 0.8674\n",
      "Epoch 25/50\n",
      "48000/48000 [==============================] - 3s 58us/step - loss: 1.9411 - acc: 0.8777 - val_loss: 2.1411 - val_acc: 0.8643\n",
      "Epoch 26/50\n",
      "48000/48000 [==============================] - 3s 58us/step - loss: 1.9531 - acc: 0.8771 - val_loss: 2.1330 - val_acc: 0.8642\n",
      "Epoch 27/50\n",
      "48000/48000 [==============================] - 3s 55us/step - loss: 1.9393 - acc: 0.8775 - val_loss: 2.0409 - val_acc: 0.8717\n",
      "Epoch 28/50\n",
      "48000/48000 [==============================] - 3s 59us/step - loss: 1.9288 - acc: 0.8783 - val_loss: 2.0650 - val_acc: 0.8698\n",
      "Epoch 29/50\n",
      "48000/48000 [==============================] - 3s 55us/step - loss: 1.9141 - acc: 0.8794 - val_loss: 2.0439 - val_acc: 0.8708\n",
      "Epoch 30/50\n",
      "48000/48000 [==============================] - 3s 59us/step - loss: 1.9090 - acc: 0.8799 - val_loss: 2.0751 - val_acc: 0.8678\n",
      "Epoch 31/50\n",
      "48000/48000 [==============================] - 3s 65us/step - loss: 1.9140 - acc: 0.8793 - val_loss: 2.0272 - val_acc: 0.8722\n",
      "Epoch 32/50\n",
      "48000/48000 [==============================] - 3s 69us/step - loss: 1.9019 - acc: 0.8802 - val_loss: 2.0190 - val_acc: 0.8728\n",
      "Epoch 33/50\n",
      "48000/48000 [==============================] - 3s 65us/step - loss: 1.8877 - acc: 0.8814 - val_loss: 2.0630 - val_acc: 0.8699\n",
      "Epoch 34/50\n",
      "48000/48000 [==============================] - 3s 57us/step - loss: 1.8893 - acc: 0.8812 - val_loss: 2.1027 - val_acc: 0.8675\n",
      "Epoch 35/50\n",
      "48000/48000 [==============================] - 2s 50us/step - loss: 1.8824 - acc: 0.8816 - val_loss: 2.0694 - val_acc: 0.8692\n",
      "Epoch 36/50\n",
      "48000/48000 [==============================] - 2s 51us/step - loss: 1.8730 - acc: 0.8822 - val_loss: 2.0322 - val_acc: 0.8720\n",
      "Epoch 37/50\n",
      "48000/48000 [==============================] - 3s 63us/step - loss: 1.8662 - acc: 0.8828 - val_loss: 2.0861 - val_acc: 0.8682\n",
      "Epoch 38/50\n",
      "48000/48000 [==============================] - 3s 58us/step - loss: 1.8618 - acc: 0.8830 - val_loss: 2.0559 - val_acc: 0.8708\n",
      "Epoch 39/50\n",
      "48000/48000 [==============================] - 3s 55us/step - loss: 1.8692 - acc: 0.8827 - val_loss: 2.1097 - val_acc: 0.8673\n",
      "Epoch 40/50\n",
      "48000/48000 [==============================] - 3s 62us/step - loss: 1.8635 - acc: 0.8829 - val_loss: 2.0661 - val_acc: 0.8692\n",
      "Epoch 41/50\n",
      "48000/48000 [==============================] - 3s 61us/step - loss: 1.8580 - acc: 0.8832 - val_loss: 2.0135 - val_acc: 0.8735\n",
      "Epoch 42/50\n",
      "48000/48000 [==============================] - 3s 63us/step - loss: 1.8657 - acc: 0.8829 - val_loss: 2.1026 - val_acc: 0.8674\n",
      "Epoch 43/50\n",
      "48000/48000 [==============================] - 3s 65us/step - loss: 1.8589 - acc: 0.8834 - val_loss: 2.0435 - val_acc: 0.8714\n",
      "Epoch 44/50\n",
      "48000/48000 [==============================] - 3s 58us/step - loss: 1.8455 - acc: 0.8842 - val_loss: 2.0270 - val_acc: 0.8729\n",
      "Epoch 45/50\n",
      "48000/48000 [==============================] - 3s 59us/step - loss: 1.8303 - acc: 0.8853 - val_loss: 2.0963 - val_acc: 0.8683\n",
      "Epoch 46/50\n",
      "48000/48000 [==============================] - 4s 83us/step - loss: 1.8454 - acc: 0.8842 - val_loss: 2.0273 - val_acc: 0.8727\n",
      "Epoch 47/50\n",
      "48000/48000 [==============================] - 4s 90us/step - loss: 1.8168 - acc: 0.8862 - val_loss: 2.0298 - val_acc: 0.8718\n",
      "Epoch 48/50\n",
      "48000/48000 [==============================] - 4s 89us/step - loss: 1.8162 - acc: 0.8864 - val_loss: 2.0141 - val_acc: 0.8733\n",
      "Epoch 49/50\n",
      "48000/48000 [==============================] - 4s 81us/step - loss: 1.8334 - acc: 0.8851 - val_loss: 2.0485 - val_acc: 0.8710\n",
      "Epoch 50/50\n",
      "48000/48000 [==============================] - 3s 71us/step - loss: 1.8424 - acc: 0.8845 - val_loss: 2.0372 - val_acc: 0.8724\n"
     ]
    }
   ],
   "source": [
    "model_experiment4 = models.Sequential()\n",
    "model_experiment4.add(layers.Dense(200, activation = 'relu', input_shape = (784,)))\n",
    "model_experiment4.add(layers.Dense(100, activation = 'relu'))\n",
    "model_experiment4.add(layers.Dense(10, activation = 'softmax'))\n",
    "\n",
    "# Compile the model\n",
    "model_experiment4.compile(optimizer = 'rmsprop', loss = 'categorical_crossentropy', metrics = ['accuracy'])\n",
    "\n",
    "# Fit the model\n",
    "eps = 50\n",
    "history = model_experiment4.fit(x_train_part, y_train_part, batch_size = 1024, epochs = eps, validation_data = (x_train_val, y_train_val))"
   ]
  },
  {
   "cell_type": "code",
   "execution_count": 61,
   "metadata": {},
   "outputs": [
    {
     "data": {
      "image/png": "[encoded data removed]",
      "text/plain": [
       "<Figure size 432x288 with 1 Axes>"
      ]
     },
     "metadata": {
      "needs_background": "light"
     },
     "output_type": "display_data"
    }
   ],
   "source": [
    "# Plot the learning parameters\n",
    "import matplotlib.pyplot as plt\n",
    "\n",
    "history_dict = history.history\n",
    "loss_values = history_dict['loss']\n",
    "val_loss_values = history_dict['val_loss']\n",
    "\n",
    "epochs = range(1, eps + 1)\n",
    "\n",
    "plt.plot(epochs, loss_values, 'g', label = 'Training Loss')\n",
    "plt.plot(epochs, val_loss_values, 'b', label = 'Validation Loss')\n",
    "plt.xlabel('Epochs')\n",
    "plt.ylabel('Loss')\n",
    "plt.legend()\n",
    "\n",
    "plt.show()"
   ]
  },
  {
   "cell_type": "code",
   "execution_count": 62,
   "metadata": {},
   "outputs": [
    {
     "data": {
      "image/png": "[encoded data removed]",
      "text/plain": [
       "<Figure size 432x288 with 1 Axes>"
      ]
     },
     "metadata": {
      "needs_background": "light"
     },
     "output_type": "display_data"
    }
   ],
   "source": [
    "plt.clf()\n",
    "\n",
    "acc_values = history_dict['acc']\n",
    "val_acc_values = history_dict['val_acc']\n",
    "\n",
    "plt.plot(epochs, acc_values, 'g', label = 'Training Accuracy')\n",
    "plt.plot(epochs, val_acc_values, 'b', label = 'Validation Accuracy')\n",
    "plt.title('Training and Validation Accuracy')\n",
    "plt.xlabel('Epochs')\n",
    "plt.ylabel('Accuracy')\n",
    "plt.legend()\n",
    "\n",
    "plt.show()"
   ]
  },
  {
   "cell_type": "code",
   "execution_count": 63,
   "metadata": {},
   "outputs": [
    {
     "data": {
      "text/plain": [
       "array([[   0,    1,  163,    6,   19,  489,  165,   20,   30,   87],\n",
       "       [   0, 1126,    0,    3,    0,    1,    3,    0,    2,    0],\n",
       "       [   0,    5,  948,   15,    6,    6,    3,   22,   25,    2],\n",
       "       [   0,    1,    2,  977,    0,   12,    0,   12,    6,    0],\n",
       "       [   0,    0,    1,    0,  963,    0,    7,    1,    1,    9],\n",
       "       [   0,    0,    0,    3,    1,  876,    6,    1,    4,    1],\n",
       "       [   0,    1,    0,    1,    6,   19,  928,    0,    3,    0],\n",
       "       [   0,    5,    5,    2,    2,    0,    0, 1007,    1,    6],\n",
       "       [   0,    0,    3,    4,    7,    7,    2,    5,  942,    4],\n",
       "       [   0,    5,    0,    3,   20,    5,    1,   10,    6,  959]])"
      ]
     },
     "execution_count": 63,
     "metadata": {},
     "output_type": "execute_result"
    }
   ],
   "source": [
    "# Examine the confusion\n",
    "y_pred = model_experiment4.predict(x_test.reshape(10000, 28 * 28))\n",
    "y_pred_test = np.argmax(y_pred, axis = 1)\n",
    "\n",
    "confusion_matrix(y_test, y_pred_test)"
   ]
  },
  {
   "cell_type": "code",
   "execution_count": 64,
   "metadata": {},
   "outputs": [
    {
     "name": "stdout",
     "output_type": "stream",
     "text": [
      "              precision    recall  f1-score   support\n",
      "\n",
      "           0       0.00      0.00      0.00       980\n",
      "           1       0.98      0.99      0.99      1135\n",
      "           2       0.84      0.92      0.88      1032\n",
      "           3       0.96      0.97      0.97      1010\n",
      "           4       0.94      0.98      0.96       982\n",
      "           5       0.62      0.98      0.76       892\n",
      "           6       0.83      0.97      0.90       958\n",
      "           7       0.93      0.98      0.96      1028\n",
      "           8       0.92      0.97      0.94       974\n",
      "           9       0.90      0.95      0.92      1009\n",
      "\n",
      "   micro avg       0.87      0.87      0.87     10000\n",
      "   macro avg       0.79      0.87      0.83     10000\n",
      "weighted avg       0.80      0.87      0.83     10000\n",
      "\n"
     ]
    }
   ],
   "source": [
    "print(classification_report(y_test, y_pred_test))"
   ]
  },
  {
   "cell_type": "markdown",
   "metadata": {},
   "source": [
    "Running with 50 epochs did not improve the accuracy on Model 4. Given how high the accuracy was on the Control Experiments, I'm thinking less nodes may work better. Next, I'll try cutting the number of nodes in the hidden layers in half, and still running with 50 epochs."
   ]
  },
  {
   "cell_type": "code",
   "execution_count": 66,
   "metadata": {},
   "outputs": [
    {
     "name": "stdout",
     "output_type": "stream",
     "text": [
      "Train on 48000 samples, validate on 12000 samples\n",
      "Epoch 1/50\n",
      "48000/48000 [==============================] - 3s 60us/step - loss: 5.6309 - acc: 0.6318 - val_loss: 3.0481 - val_acc: 0.7942\n",
      "Epoch 2/50\n",
      "48000/48000 [==============================] - 2s 36us/step - loss: 2.1986 - acc: 0.8464 - val_loss: 1.5598 - val_acc: 0.8857\n",
      "Epoch 3/50\n",
      "48000/48000 [==============================] - 2s 38us/step - loss: 1.4204 - acc: 0.8976 - val_loss: 1.2173 - val_acc: 0.9136\n",
      "Epoch 4/50\n",
      "48000/48000 [==============================] - 2s 36us/step - loss: 1.1670 - acc: 0.9166 - val_loss: 1.1432 - val_acc: 0.9167\n",
      "Epoch 5/50\n",
      "48000/48000 [==============================] - 2s 35us/step - loss: 0.9889 - acc: 0.9284 - val_loss: 0.9932 - val_acc: 0.9281\n",
      "Epoch 6/50\n",
      "48000/48000 [==============================] - 2s 38us/step - loss: 0.8467 - acc: 0.9383 - val_loss: 1.0764 - val_acc: 0.9226\n",
      "Epoch 7/50\n",
      "48000/48000 [==============================] - 2s 36us/step - loss: 0.7866 - acc: 0.9423 - val_loss: 0.8268 - val_acc: 0.9390\n",
      "Epoch 8/50\n",
      "48000/48000 [==============================] - 2s 37us/step - loss: 0.7214 - acc: 0.9480 - val_loss: 0.7950 - val_acc: 0.9418\n",
      "Epoch 9/50\n",
      "48000/48000 [==============================] - 342s 7ms/step - loss: 0.6703 - acc: 0.9506 - val_loss: 0.7809 - val_acc: 0.9425\n",
      "Epoch 10/50\n",
      "48000/48000 [==============================] - 2s 36us/step - loss: 0.6261 - acc: 0.9545 - val_loss: 0.7196 - val_acc: 0.9469\n",
      "Epoch 11/50\n",
      "48000/48000 [==============================] - 2s 36us/step - loss: 0.5886 - acc: 0.9564 - val_loss: 0.7005 - val_acc: 0.9488\n",
      "Epoch 12/50\n",
      "48000/48000 [==============================] - 2s 36us/step - loss: 0.5642 - acc: 0.9592 - val_loss: 0.6874 - val_acc: 0.9489\n",
      "Epoch 13/50\n",
      "48000/48000 [==============================] - 2s 35us/step - loss: 0.5194 - acc: 0.9618 - val_loss: 0.6098 - val_acc: 0.9548\n",
      "Epoch 14/50\n",
      "48000/48000 [==============================] - 2s 34us/step - loss: 0.4757 - acc: 0.9649 - val_loss: 0.6802 - val_acc: 0.9510\n",
      "Epoch 15/50\n",
      "48000/48000 [==============================] - 2s 36us/step - loss: 0.4676 - acc: 0.9657 - val_loss: 0.5974 - val_acc: 0.9550\n",
      "Epoch 16/50\n",
      "48000/48000 [==============================] - 2s 33us/step - loss: 0.4401 - acc: 0.9679 - val_loss: 0.6648 - val_acc: 0.9522\n",
      "Epoch 17/50\n",
      "48000/48000 [==============================] - 2s 34us/step - loss: 0.4394 - acc: 0.9680 - val_loss: 0.6001 - val_acc: 0.9556\n",
      "Epoch 18/50\n",
      "48000/48000 [==============================] - 2s 34us/step - loss: 0.4412 - acc: 0.9678 - val_loss: 0.5734 - val_acc: 0.9577\n",
      "Epoch 19/50\n",
      "48000/48000 [==============================] - 2s 38us/step - loss: 0.4052 - acc: 0.9704 - val_loss: 0.5696 - val_acc: 0.9587\n",
      "Epoch 20/50\n",
      "48000/48000 [==============================] - 2s 38us/step - loss: 0.3807 - acc: 0.9719 - val_loss: 0.5770 - val_acc: 0.9578\n",
      "Epoch 21/50\n",
      "48000/48000 [==============================] - 3s 55us/step - loss: 0.3809 - acc: 0.9723 - val_loss: 0.5264 - val_acc: 0.9617\n",
      "Epoch 22/50\n",
      "48000/48000 [==============================] - 2s 40us/step - loss: 0.3725 - acc: 0.9727 - val_loss: 0.5849 - val_acc: 0.9573\n",
      "Epoch 23/50\n",
      "48000/48000 [==============================] - 2s 39us/step - loss: 0.3637 - acc: 0.9735 - val_loss: 0.5795 - val_acc: 0.9573\n",
      "Epoch 24/50\n",
      "48000/48000 [==============================] - 2s 36us/step - loss: 0.3309 - acc: 0.9758 - val_loss: 0.5393 - val_acc: 0.9601\n",
      "Epoch 25/50\n",
      "48000/48000 [==============================] - 2s 40us/step - loss: 0.3307 - acc: 0.9758 - val_loss: 0.6045 - val_acc: 0.9568\n",
      "Epoch 26/50\n",
      "48000/48000 [==============================] - 2s 35us/step - loss: 0.3277 - acc: 0.9761 - val_loss: 0.5228 - val_acc: 0.9621\n",
      "Epoch 27/50\n",
      "48000/48000 [==============================] - 2s 36us/step - loss: 0.3163 - acc: 0.9765 - val_loss: 0.5159 - val_acc: 0.9634\n",
      "Epoch 28/50\n",
      "48000/48000 [==============================] - 2s 35us/step - loss: 0.3084 - acc: 0.9775 - val_loss: 0.5269 - val_acc: 0.9621\n",
      "Epoch 29/50\n",
      "48000/48000 [==============================] - 2s 40us/step - loss: 0.2982 - acc: 0.9785 - val_loss: 0.5190 - val_acc: 0.9631\n",
      "Epoch 30/50\n",
      "48000/48000 [==============================] - 2s 37us/step - loss: 0.3215 - acc: 0.9768 - val_loss: 0.5130 - val_acc: 0.9626\n",
      "Epoch 31/50\n",
      "48000/48000 [==============================] - 2s 35us/step - loss: 0.2879 - acc: 0.9793 - val_loss: 0.5015 - val_acc: 0.9639\n",
      "Epoch 32/50\n",
      "48000/48000 [==============================] - 2s 38us/step - loss: 0.2850 - acc: 0.9791 - val_loss: 0.4814 - val_acc: 0.9655\n",
      "Epoch 33/50\n",
      "48000/48000 [==============================] - 2s 37us/step - loss: 0.2722 - acc: 0.9801 - val_loss: 0.5221 - val_acc: 0.9611\n",
      "Epoch 34/50\n",
      "48000/48000 [==============================] - 2s 36us/step - loss: 0.2657 - acc: 0.9803 - val_loss: 0.5262 - val_acc: 0.9609\n",
      "Epoch 35/50\n",
      "48000/48000 [==============================] - 2s 43us/step - loss: 0.2534 - acc: 0.9818 - val_loss: 0.4755 - val_acc: 0.9654\n",
      "Epoch 36/50\n",
      "48000/48000 [==============================] - 2s 40us/step - loss: 0.2532 - acc: 0.9818 - val_loss: 0.4911 - val_acc: 0.9635\n",
      "Epoch 37/50\n",
      "48000/48000 [==============================] - 2s 41us/step - loss: 0.2528 - acc: 0.9817 - val_loss: 0.4493 - val_acc: 0.9668\n",
      "Epoch 38/50\n",
      "48000/48000 [==============================] - 2s 38us/step - loss: 0.2459 - acc: 0.9821 - val_loss: 0.5091 - val_acc: 0.9623\n",
      "Epoch 39/50\n",
      "48000/48000 [==============================] - 2s 39us/step - loss: 0.2463 - acc: 0.9819 - val_loss: 0.5701 - val_acc: 0.9590\n",
      "Epoch 40/50\n",
      "48000/48000 [==============================] - 2s 33us/step - loss: 0.2259 - acc: 0.9838 - val_loss: 0.4581 - val_acc: 0.9666\n",
      "Epoch 41/50\n",
      "48000/48000 [==============================] - 2s 35us/step - loss: 0.2332 - acc: 0.9830 - val_loss: 0.4541 - val_acc: 0.9676\n",
      "Epoch 42/50\n",
      "48000/48000 [==============================] - 2s 37us/step - loss: 0.2193 - acc: 0.9839 - val_loss: 0.4732 - val_acc: 0.9661\n",
      "Epoch 43/50\n",
      "48000/48000 [==============================] - 2s 41us/step - loss: 0.2154 - acc: 0.9846 - val_loss: 0.4852 - val_acc: 0.9651\n",
      "Epoch 44/50\n",
      "48000/48000 [==============================] - 2s 39us/step - loss: 0.2104 - acc: 0.9849 - val_loss: 0.5247 - val_acc: 0.9624\n",
      "Epoch 45/50\n",
      "48000/48000 [==============================] - 2s 41us/step - loss: 0.2072 - acc: 0.9851 - val_loss: 0.4480 - val_acc: 0.9682\n",
      "Epoch 46/50\n",
      "48000/48000 [==============================] - 2s 43us/step - loss: 0.2087 - acc: 0.9849 - val_loss: 0.5373 - val_acc: 0.9615\n",
      "Epoch 47/50\n",
      "48000/48000 [==============================] - 2s 37us/step - loss: 0.2071 - acc: 0.9854 - val_loss: 0.5274 - val_acc: 0.9632\n",
      "Epoch 48/50\n",
      "48000/48000 [==============================] - 2s 38us/step - loss: 0.2103 - acc: 0.9850 - val_loss: 0.5038 - val_acc: 0.9637\n",
      "Epoch 49/50\n",
      "48000/48000 [==============================] - 2s 38us/step - loss: 0.1980 - acc: 0.9858 - val_loss: 0.4410 - val_acc: 0.9693\n",
      "Epoch 50/50\n",
      "48000/48000 [==============================] - 2s 41us/step - loss: 0.1976 - acc: 0.9856 - val_loss: 0.4732 - val_acc: 0.9668\n"
     ]
    }
   ],
   "source": [
    "model_experiment4 = models.Sequential()\n",
    "model_experiment4.add(layers.Dense(100, activation = 'relu', input_shape = (784,)))\n",
    "model_experiment4.add(layers.Dense(50, activation = 'relu'))\n",
    "model_experiment4.add(layers.Dense(10, activation = 'softmax'))\n",
    "\n",
    "# Compile the model\n",
    "model_experiment4.compile(optimizer = 'rmsprop', loss = 'categorical_crossentropy', metrics = ['accuracy'])\n",
    "\n",
    "# Fit the model\n",
    "eps = 50\n",
    "history = model_experiment4.fit(x_train_part, y_train_part, batch_size = 1024, epochs = eps, validation_data = (x_train_val, y_train_val))"
   ]
  },
  {
   "cell_type": "code",
   "execution_count": 67,
   "metadata": {},
   "outputs": [
    {
     "data": {
      "image/png": "[encoded data removed]",
      "text/plain": [
       "<Figure size 432x288 with 1 Axes>"
      ]
     },
     "metadata": {
      "needs_background": "light"
     },
     "output_type": "display_data"
    }
   ],
   "source": [
    "# Plot the learning parameters\n",
    "import matplotlib.pyplot as plt\n",
    "\n",
    "history_dict = history.history\n",
    "loss_values = history_dict['loss']\n",
    "val_loss_values = history_dict['val_loss']\n",
    "\n",
    "epochs = range(1, eps + 1)\n",
    "\n",
    "plt.plot(epochs, loss_values, 'g', label = 'Training Loss')\n",
    "plt.plot(epochs, val_loss_values, 'b', label = 'Validation Loss')\n",
    "plt.xlabel('Epochs')\n",
    "plt.ylabel('Loss')\n",
    "plt.legend()\n",
    "\n",
    "plt.show()"
   ]
  },
  {
   "cell_type": "code",
   "execution_count": 68,
   "metadata": {},
   "outputs": [
    {
     "data": {
      "image/png": "[encoded data removed]",
      "text/plain": [
       "<Figure size 432x288 with 1 Axes>"
      ]
     },
     "metadata": {
      "needs_background": "light"
     },
     "output_type": "display_data"
    }
   ],
   "source": [
    "plt.clf()\n",
    "\n",
    "acc_values = history_dict['acc']\n",
    "val_acc_values = history_dict['val_acc']\n",
    "\n",
    "plt.plot(epochs, acc_values, 'g', label = 'Training Accuracy')\n",
    "plt.plot(epochs, val_acc_values, 'b', label = 'Validation Accuracy')\n",
    "plt.title('Training and Validation Accuracy')\n",
    "plt.xlabel('Epochs')\n",
    "plt.ylabel('Accuracy')\n",
    "plt.legend()\n",
    "\n",
    "plt.show()"
   ]
  },
  {
   "cell_type": "code",
   "execution_count": 69,
   "metadata": {},
   "outputs": [
    {
     "data": {
      "text/plain": [
       "array([[ 977,    0,    0,    0,    0,    0,    0,    1,    2,    0],\n",
       "       [   0, 1119,    1,    2,    0,    0,    2,    1,   10,    0],\n",
       "       [  11,    3, 1004,    2,    1,    0,    1,    5,    5,    0],\n",
       "       [   4,    0,    7,  976,    0,    7,    0,    6,    6,    4],\n",
       "       [   3,    0,    7,    0,  956,    0,    5,    1,    2,    8],\n",
       "       [  11,    0,    0,    5,    1,  859,    6,    1,    7,    2],\n",
       "       [  12,    3,    0,    1,    2,    9,  924,    1,    6,    0],\n",
       "       [   1,    8,   15,    6,    1,    0,    0,  984,    5,    8],\n",
       "       [   8,    2,    7,    3,    6,    7,    2,    3,  934,    2],\n",
       "       [  14,    6,    2,    7,   12,   10,    1,    9,   14,  934]])"
      ]
     },
     "execution_count": 69,
     "metadata": {},
     "output_type": "execute_result"
    }
   ],
   "source": [
    "# Examine the confusion\n",
    "y_pred = model_experiment4.predict(x_test.reshape(10000, 28 * 28))\n",
    "y_pred_test = np.argmax(y_pred, axis = 1)\n",
    "\n",
    "confusion_matrix(y_test, y_pred_test)"
   ]
  },
  {
   "cell_type": "code",
   "execution_count": 70,
   "metadata": {},
   "outputs": [
    {
     "name": "stdout",
     "output_type": "stream",
     "text": [
      "              precision    recall  f1-score   support\n",
      "\n",
      "           0       0.94      1.00      0.97       980\n",
      "           1       0.98      0.99      0.98      1135\n",
      "           2       0.96      0.97      0.97      1032\n",
      "           3       0.97      0.97      0.97      1010\n",
      "           4       0.98      0.97      0.98       982\n",
      "           5       0.96      0.96      0.96       892\n",
      "           6       0.98      0.96      0.97       958\n",
      "           7       0.97      0.96      0.96      1028\n",
      "           8       0.94      0.96      0.95       974\n",
      "           9       0.97      0.93      0.95      1009\n",
      "\n",
      "   micro avg       0.97      0.97      0.97     10000\n",
      "   macro avg       0.97      0.97      0.97     10000\n",
      "weighted avg       0.97      0.97      0.97     10000\n",
      "\n"
     ]
    }
   ],
   "source": [
    "print(classification_report(y_test, y_pred_test))"
   ]
  },
  {
   "cell_type": "markdown",
   "metadata": {},
   "source": [
    "With an accuracy of ~98.5%, and an F1 score of 0.97, I can conclude that a 100/50/10 network is one of the best network setups that works for this dataset."
   ]
  }
 ],
 "metadata": {
  "kernelspec": {
   "display_name": "Python 3",
   "language": "python",
   "name": "python3"
  },
  "language_info": {
   "codemirror_mode": {
    "name": "ipython",
    "version": 3
   },
   "file_extension": ".py",
   "mimetype": "text/x-python",
   "name": "python",
   "nbconvert_exporter": "python",
   "pygments_lexer": "ipython3",
   "version": "3.6.7"
  }
 },
 "nbformat": 4,
 "nbformat_minor": 2
}
