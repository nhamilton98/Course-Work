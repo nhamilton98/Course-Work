{
 "cells": [
  {
   "cell_type": "markdown",
   "metadata": {},
   "source": [
    "Using the imdb movie review dataset from Keras, we can build a binary classifier that will classify a review as positive or negative based on the words used in the review.\n",
    "\n",
    "After importing the data, train_data[0] will show the word indeces of the first review within the training set."
   ]
  },
  {
   "cell_type": "code",
   "execution_count": 2,
   "metadata": {},
   "outputs": [
    {
     "data": {
      "text/plain": [
       "[1,\n",
       " 14,\n",
       " 22,\n",
       " 16,\n",
       " 43,\n",
       " 530,\n",
       " 973,\n",
       " 2,\n",
       " 2,\n",
       " 65,\n",
       " 458,\n",
       " 2,\n",
       " 66,\n",
       " 2,\n",
       " 4,\n",
       " 173,\n",
       " 36,\n",
       " 256,\n",
       " 5,\n",
       " 25,\n",
       " 100,\n",
       " 43,\n",
       " 838,\n",
       " 112,\n",
       " 50,\n",
       " 670,\n",
       " 2,\n",
       " 9,\n",
       " 35,\n",
       " 480,\n",
       " 284,\n",
       " 5,\n",
       " 150,\n",
       " 4,\n",
       " 172,\n",
       " 112,\n",
       " 167,\n",
       " 2,\n",
       " 336,\n",
       " 385,\n",
       " 39,\n",
       " 4,\n",
       " 172,\n",
       " 2,\n",
       " 2,\n",
       " 17,\n",
       " 546,\n",
       " 38,\n",
       " 13,\n",
       " 447,\n",
       " 4,\n",
       " 192,\n",
       " 50,\n",
       " 16,\n",
       " 6,\n",
       " 147,\n",
       " 2,\n",
       " 19,\n",
       " 14,\n",
       " 22,\n",
       " 4,\n",
       " 2,\n",
       " 2,\n",
       " 469,\n",
       " 4,\n",
       " 22,\n",
       " 71,\n",
       " 87,\n",
       " 12,\n",
       " 16,\n",
       " 43,\n",
       " 530,\n",
       " 38,\n",
       " 76,\n",
       " 15,\n",
       " 13,\n",
       " 2,\n",
       " 4,\n",
       " 22,\n",
       " 17,\n",
       " 515,\n",
       " 17,\n",
       " 12,\n",
       " 16,\n",
       " 626,\n",
       " 18,\n",
       " 2,\n",
       " 5,\n",
       " 62,\n",
       " 386,\n",
       " 12,\n",
       " 8,\n",
       " 316,\n",
       " 8,\n",
       " 106,\n",
       " 5,\n",
       " 4,\n",
       " 2,\n",
       " 2,\n",
       " 16,\n",
       " 480,\n",
       " 66,\n",
       " 2,\n",
       " 33,\n",
       " 4,\n",
       " 130,\n",
       " 12,\n",
       " 16,\n",
       " 38,\n",
       " 619,\n",
       " 5,\n",
       " 25,\n",
       " 124,\n",
       " 51,\n",
       " 36,\n",
       " 135,\n",
       " 48,\n",
       " 25,\n",
       " 2,\n",
       " 33,\n",
       " 6,\n",
       " 22,\n",
       " 12,\n",
       " 215,\n",
       " 28,\n",
       " 77,\n",
       " 52,\n",
       " 5,\n",
       " 14,\n",
       " 407,\n",
       " 16,\n",
       " 82,\n",
       " 2,\n",
       " 8,\n",
       " 4,\n",
       " 107,\n",
       " 117,\n",
       " 2,\n",
       " 15,\n",
       " 256,\n",
       " 4,\n",
       " 2,\n",
       " 7,\n",
       " 2,\n",
       " 5,\n",
       " 723,\n",
       " 36,\n",
       " 71,\n",
       " 43,\n",
       " 530,\n",
       " 476,\n",
       " 26,\n",
       " 400,\n",
       " 317,\n",
       " 46,\n",
       " 7,\n",
       " 4,\n",
       " 2,\n",
       " 2,\n",
       " 13,\n",
       " 104,\n",
       " 88,\n",
       " 4,\n",
       " 381,\n",
       " 15,\n",
       " 297,\n",
       " 98,\n",
       " 32,\n",
       " 2,\n",
       " 56,\n",
       " 26,\n",
       " 141,\n",
       " 6,\n",
       " 194,\n",
       " 2,\n",
       " 18,\n",
       " 4,\n",
       " 226,\n",
       " 22,\n",
       " 21,\n",
       " 134,\n",
       " 476,\n",
       " 26,\n",
       " 480,\n",
       " 5,\n",
       " 144,\n",
       " 30,\n",
       " 2,\n",
       " 18,\n",
       " 51,\n",
       " 36,\n",
       " 28,\n",
       " 224,\n",
       " 92,\n",
       " 25,\n",
       " 104,\n",
       " 4,\n",
       " 226,\n",
       " 65,\n",
       " 16,\n",
       " 38,\n",
       " 2,\n",
       " 88,\n",
       " 12,\n",
       " 16,\n",
       " 283,\n",
       " 5,\n",
       " 16,\n",
       " 2,\n",
       " 113,\n",
       " 103,\n",
       " 32,\n",
       " 15,\n",
       " 16,\n",
       " 2,\n",
       " 19,\n",
       " 178,\n",
       " 32]"
      ]
     },
     "execution_count": 2,
     "metadata": {},
     "output_type": "execute_result"
    }
   ],
   "source": [
    "import keras\n",
    "from keras.datasets import imdb\n",
    "\n",
    "(train_data, train_labels), (test_data, test_labels) = imdb.load_data(num_words = 1000)\n",
    "\n",
    "train_data[0]"
   ]
  },
  {
   "cell_type": "markdown",
   "metadata": {},
   "source": [
    "Train_labels[0] will show the label assigned to that first review."
   ]
  },
  {
   "cell_type": "code",
   "execution_count": 3,
   "metadata": {},
   "outputs": [
    {
     "data": {
      "text/plain": [
       "1"
      ]
     },
     "execution_count": 3,
     "metadata": {},
     "output_type": "execute_result"
    }
   ],
   "source": [
    "train_labels[0]"
   ]
  },
  {
   "cell_type": "markdown",
   "metadata": {},
   "source": [
    "Since the label is 1, we know that the first review is a positive review. (i.e. label == 0 is a negative review, label == 1 is a positive review)\n",
    "\n",
    "We limit ourselves to the top 1,000 most frequent words (For truly effective results, we should use 10,000, but due to RAM limitations, I will use 1,000). This allows our binary classifier to classify reviews faster and more accurately. This is because infrequent words will hold little weight in determining whether a review is positive or negative."
   ]
  },
  {
   "cell_type": "code",
   "execution_count": 4,
   "metadata": {},
   "outputs": [
    {
     "data": {
      "text/plain": [
       "999"
      ]
     },
     "execution_count": 4,
     "metadata": {},
     "output_type": "execute_result"
    }
   ],
   "source": [
    "max([max(sequence) for sequence in train_data])"
   ]
  },
  {
   "cell_type": "markdown",
   "metadata": {},
   "source": [
    "To be able to view the review in English, rather than word mapping, we can decode the review."
   ]
  },
  {
   "cell_type": "code",
   "execution_count": 5,
   "metadata": {},
   "outputs": [
    {
     "name": "stdout",
     "output_type": "stream",
     "text": [
      "? this film was just brilliant casting ? ? story direction ? really ? the part they played and you could just imagine being there robert ? is an amazing actor and now the same being director ? father came from the same ? ? as myself so i loved the fact there was a real ? with this film the ? ? throughout the film were great it was just brilliant so much that i ? the film as soon as it was released for ? and would recommend it to everyone to watch and the ? ? was amazing really ? at the end it was so sad and you know what they say if you ? at a film it must have been good and this definitely was also ? to the two little ? that played the ? of ? and paul they were just brilliant children are often left out of the ? ? i think because the stars that play them all ? up are such a big ? for the whole film but these children are amazing and should be ? for what they have done don't you think the whole story was so ? because it was true and was ? life after all that was ? with us all\n"
     ]
    }
   ],
   "source": [
    "# word_index is a dictionary mapping words to an integer index\n",
    "word_index = imdb.get_word_index()\n",
    "\n",
    "# We reverse it, mapping integer indices to words\n",
    "reverse_word_index = dict([(value, key) for (key, value) in word_index.items()])\n",
    "\n",
    "# We decode the review; note that our indices were offset by 3\n",
    "# because 0, 1, and 2 are reserved indices for \"padding\", \"start of sequence\", and \"unknown\"\n",
    "decode_review = ' '.join([reverse_word_index.get(i - 3, '?') for i in train_data[0]])\n",
    "print(decode_review)"
   ]
  },
  {
   "cell_type": "markdown",
   "metadata": {},
   "source": [
    "Unfortunately, neural networks are unable to classify based solely on integers. A solution would be one-hot-encoding our lists to convert to binary vectors (i.e. vectors containing 0s and 1s). For example, converting the sequence [3, 5] into a vector with 1,000 dimensions, all being 0s except for indices 3 and 5. We then implement the first layer of the neural network as a Dense layer, capable of handling floating point vectors.\n",
    "\n",
    "An example of this solution is as follows:"
   ]
  },
  {
   "cell_type": "code",
   "execution_count": 6,
   "metadata": {},
   "outputs": [
    {
     "data": {
      "text/plain": [
       "array([0., 1., 1., 0., 1., 1., 1., 1., 1., 1., 0., 0., 1., 1., 1., 1., 1.,\n",
       "       1., 1., 1., 0., 1., 1., 0., 0., 1., 1., 0., 1., 0., 1., 0., 1., 1.,\n",
       "       0., 1., 1., 0., 1., 1., 0., 0., 0., 1., 0., 0., 1., 0., 1., 0., 1.,\n",
       "       1., 1., 0., 0., 0., 1., 0., 0., 0., 0., 0., 1., 0., 0., 1., 1., 0.,\n",
       "       0., 0., 0., 1., 0., 0., 0., 0., 1., 1., 0., 0., 0., 0., 1., 0., 0.,\n",
       "       0., 0., 1., 1., 0., 0., 0., 1., 0., 0., 0., 0., 0., 1., 0., 1., 0.,\n",
       "       0., 1., 1., 0., 1., 1., 0., 0., 0., 0., 1., 1., 0., 0., 0., 1., 0.,\n",
       "       0., 0., 0., 0., 0., 1., 0., 0., 0., 0., 0., 1., 0., 0., 0., 1., 1.,\n",
       "       0., 0., 0., 0., 0., 1., 0., 0., 1., 0., 0., 1., 0., 0., 1., 0., 0.,\n",
       "       0., 0., 0., 0., 0., 0., 0., 0., 0., 0., 0., 0., 0., 0., 1., 0., 0.,\n",
       "       0., 0., 1., 1., 0., 0., 0., 0., 1., 0., 0., 0., 0., 0., 0., 0., 0.,\n",
       "       0., 0., 0., 0., 0., 1., 0., 1., 0., 0., 0., 0., 0., 0., 0., 0., 0.,\n",
       "       0., 0., 0., 0., 0., 0., 0., 0., 0., 0., 0., 1., 0., 0., 0., 0., 0.,\n",
       "       0., 0., 0., 1., 0., 1., 0., 0., 0., 0., 0., 0., 0., 0., 0., 0., 0.,\n",
       "       0., 0., 0., 0., 0., 0., 0., 0., 0., 0., 0., 0., 0., 0., 0., 0., 0.,\n",
       "       0., 1., 0., 0., 0., 0., 0., 0., 0., 0., 0., 0., 0., 0., 0., 0., 0.,\n",
       "       0., 0., 0., 0., 0., 0., 0., 0., 0., 0., 0., 1., 1., 0., 0., 0., 0.,\n",
       "       0., 0., 0., 0., 0., 0., 0., 0., 1., 0., 0., 0., 0., 0., 0., 0., 0.,\n",
       "       0., 0., 0., 0., 0., 0., 0., 0., 0., 0., 1., 1., 0., 0., 0., 0., 0.,\n",
       "       0., 0., 0., 0., 0., 0., 0., 0., 0., 0., 0., 0., 0., 1., 0., 0., 0.,\n",
       "       0., 0., 0., 0., 0., 0., 0., 0., 0., 0., 0., 0., 0., 0., 0., 0., 0.,\n",
       "       0., 0., 0., 0., 0., 0., 0., 0., 0., 0., 0., 0., 0., 0., 0., 0., 0.,\n",
       "       0., 0., 0., 0., 0., 0., 0., 1., 0., 0., 0., 1., 1., 0., 0., 0., 0.,\n",
       "       0., 0., 0., 0., 0., 0., 0., 0., 0., 1., 0., 0., 0., 0., 0., 0., 1.,\n",
       "       0., 0., 0., 0., 0., 0., 0., 0., 0., 0., 0., 0., 0., 0., 0., 0., 0.,\n",
       "       0., 0., 0., 0., 0., 0., 0., 0., 0., 0., 0., 0., 0., 0., 0., 0., 0.,\n",
       "       0., 0., 0., 0., 0., 1., 0., 0., 0., 0., 0., 0., 0., 0., 0., 0., 1.,\n",
       "       0., 0., 0., 0., 0., 0., 0., 0., 0., 0., 1., 0., 0., 0., 0., 0., 0.,\n",
       "       1., 0., 0., 0., 1., 0., 0., 0., 0., 0., 0., 0., 0., 0., 0., 0., 0.,\n",
       "       0., 0., 0., 0., 0., 0., 0., 0., 0., 0., 0., 0., 0., 0., 0., 0., 0.,\n",
       "       0., 0., 0., 0., 0., 1., 0., 0., 0., 0., 0., 0., 0., 0., 0., 0., 0.,\n",
       "       0., 0., 0., 1., 0., 0., 0., 0., 0., 0., 0., 0., 0., 0., 0., 0., 0.,\n",
       "       0., 0., 1., 0., 0., 0., 0., 0., 0., 0., 0., 0., 0., 0., 0., 0., 0.,\n",
       "       0., 0., 0., 0., 0., 0., 0., 0., 0., 0., 0., 0., 0., 0., 0., 0., 0.,\n",
       "       0., 0., 0., 0., 0., 0., 0., 0., 0., 0., 0., 0., 0., 0., 0., 0., 0.,\n",
       "       0., 0., 0., 0., 0., 0., 0., 0., 0., 0., 0., 0., 0., 0., 0., 0., 0.,\n",
       "       0., 0., 0., 0., 0., 0., 0., 1., 0., 0., 0., 0., 0., 0., 1., 0., 0.,\n",
       "       0., 0., 0., 0., 0., 0., 0., 0., 0., 0., 0., 0., 0., 0., 0., 0., 0.,\n",
       "       0., 0., 0., 0., 0., 0., 0., 0., 0., 0., 0., 0., 0., 0., 0., 0., 0.,\n",
       "       0., 0., 0., 0., 0., 0., 0., 1., 0., 0., 0., 0., 0., 0., 0., 0., 0.,\n",
       "       0., 0., 0., 0., 0., 0., 0., 0., 0., 0., 0., 0., 0., 0., 0., 0., 0.,\n",
       "       0., 0., 0., 0., 0., 0., 0., 0., 0., 0., 0., 0., 0., 0., 0., 0., 0.,\n",
       "       0., 0., 0., 0., 0., 0., 0., 0., 0., 1., 0., 0., 0., 0., 0., 0., 0.,\n",
       "       0., 0., 0., 0., 0., 0., 0., 0., 0., 0., 0., 0., 0., 0., 0., 0., 0.,\n",
       "       0., 0., 0., 0., 0., 0., 0., 0., 0., 0., 0., 0., 0., 0., 0., 0., 0.,\n",
       "       0., 0., 0., 0., 0., 0., 0., 0., 0., 0., 0., 0., 0., 0., 0., 0., 0.,\n",
       "       0., 0., 0., 0., 0., 0., 0., 0., 0., 0., 0., 0., 0., 0., 0., 0., 0.,\n",
       "       0., 0., 0., 0., 0., 0., 0., 0., 0., 0., 0., 0., 0., 0., 0., 0., 0.,\n",
       "       0., 0., 0., 0., 0., 0., 0., 0., 0., 0., 0., 0., 0., 0., 0., 0., 0.,\n",
       "       0., 0., 0., 0., 0., 1., 0., 0., 0., 0., 0., 0., 0., 0., 0., 0., 0.,\n",
       "       0., 0., 0., 0., 0., 0., 0., 0., 0., 0., 0., 0., 0., 0., 0., 0., 0.,\n",
       "       0., 0., 0., 0., 0., 0., 0., 0., 0., 0., 0., 0., 0., 0., 0., 0., 0.,\n",
       "       0., 0., 0., 0., 0., 0., 0., 0., 0., 0., 0., 0., 0., 0., 0., 0., 0.,\n",
       "       0., 0., 0., 0., 0., 0., 0., 0., 0., 0., 0., 0., 0., 0., 0., 0., 0.,\n",
       "       0., 0., 0., 0., 0., 0., 0., 0., 0., 0., 0., 0., 0., 0., 0., 0., 0.,\n",
       "       0., 0., 0., 0., 0., 0., 0., 0., 0., 0., 0., 0., 0., 0., 0., 0., 0.,\n",
       "       0., 0., 0., 0., 0., 0., 0., 0., 0., 0., 0., 0., 0., 0., 0., 0., 0.,\n",
       "       0., 0., 0., 0., 1., 0., 0., 0., 0., 0., 0., 0., 0., 0., 0., 0., 0.,\n",
       "       0., 0., 0., 0., 0., 0., 0., 0., 0., 0., 0., 0., 0., 0.])"
      ]
     },
     "execution_count": 6,
     "metadata": {},
     "output_type": "execute_result"
    }
   ],
   "source": [
    "import numpy as np\n",
    "\n",
    "def vectorize_sequences(sequences, dimension=1000):\n",
    "    # Create an all-zero matrix of shape (len(sequences), dimension)\n",
    "    results = np.zeros((len(sequences), dimension))\n",
    "    for i, sequence in enumerate(sequences):\n",
    "        results[i, sequence] = 1 # Set specific indices of results[i] to 1\n",
    "    return results\n",
    "\n",
    "# Our vectorized training data\n",
    "x_train = vectorize_sequences(train_data)\n",
    "# Our vectorized test data\n",
    "x_test = vectorize_sequences(test_data)\n",
    "# Our vectorized labels\n",
    "y_train = np.asarray(train_labels).astype('float32')\n",
    "y_test = np.asarray(test_labels).astype('float32')\n",
    "\n",
    "x_train[0]"
   ]
  },
  {
   "cell_type": "markdown",
   "metadata": {},
   "source": [
    "It's time to build the neural network. Given the format of our converted inputs, a network of fully connected Dense layers with rectified linear unit activation would work best.\n",
    "\n",
    "We use 16 hidden units so that the weight matrix w will have the shape (input_dimension, 16). In other words, when we take the dot product of w and the input data, the result will be a 16-dimensional space. We choose 16 hidden units for 2 reasons. First, it prevents the network from learning the training set too well. Second, it lowers cost of the network computation. The one drawback, however, is the network will have an inability to learn more complex representations.\n",
    "\n",
    "Using 16 hidden units, and three layers (two intermediates, one for scalar prediction output), we can implement the network as follows:"
   ]
  },
  {
   "cell_type": "code",
   "execution_count": 8,
   "metadata": {},
   "outputs": [],
   "source": [
    "from keras import models\n",
    "from keras import layers\n",
    "\n",
    "model = models.Sequential()\n",
    "model.add(layers.Dense(16, activation='relu', input_shape=(1000,)))\n",
    "model.add(layers.Dense(16, activation='relu'))\n",
    "model.add(layers.Dense(1, activation='sigmoid'))"
   ]
  },
  {
   "cell_type": "markdown",
   "metadata": {},
   "source": [
    "We specify the activation of the third layer as a sigmoid function. This builds the third layer so that it will ouput a probability, between 0 and 1, that corresponds to how likely the review is a positive review.\n",
    "\n",
    "The final element of building our network is deciding on a loss function. Given that our model is binary classification, and the output is a probability, binary_crossentropy would be the best loss function. This is because crossentropy is a quantity that measures the distance between ground-truth distribution and our predictions. That is, the distance between the correct output and our predicted output. This measure works great for probabilities."
   ]
  },
  {
   "cell_type": "code",
   "execution_count": 9,
   "metadata": {},
   "outputs": [],
   "source": [
    "model.compile(optimizer='rmsprop', loss='binary_crossentropy', metrics=['accuracy'])"
   ]
  },
  {
   "cell_type": "markdown",
   "metadata": {},
   "source": [
    "Now, we begin training our network. Part of training includes validating our approach to the network itself. To do so, we can create a set of 10,000 samples from the training data, to be used as our validation set."
   ]
  },
  {
   "cell_type": "code",
   "execution_count": 10,
   "metadata": {},
   "outputs": [],
   "source": [
    "x_val = x_train[:10000]\n",
    "partial_x_train = x_train[10000:]\n",
    "\n",
    "y_val = y_train[:10000]\n",
    "partial_y_train = y_train[10000:]"
   ]
  },
  {
   "cell_type": "markdown",
   "metadata": {},
   "source": [
    "We can now begin our training. We will do so for 20 iterations over the training data. Each of these iterations is known as an epoch. Within each iteration, we will divide the data into sets of 512 samples. This will allow us to closely monitor our loss and accuracy on the validation set."
   ]
  },
  {
   "cell_type": "code",
   "execution_count": 11,
   "metadata": {},
   "outputs": [
    {
     "name": "stdout",
     "output_type": "stream",
     "text": [
      "WARNING:tensorflow:From /home/nathan/cscd496/lib/python3.6/site-packages/tensorflow/python/ops/math_ops.py:3066: to_int32 (from tensorflow.python.ops.math_ops) is deprecated and will be removed in a future version.\n",
      "Instructions for updating:\n",
      "Use tf.cast instead.\n",
      "Train on 15000 samples, validate on 10000 samples\n",
      "Epoch 1/20\n",
      "15000/15000 [==============================] - 1s 94us/step - loss: 0.5889 - acc: 0.7005 - val_loss: 0.4870 - val_acc: 0.7888\n",
      "Epoch 2/20\n",
      "15000/15000 [==============================] - 1s 60us/step - loss: 0.4316 - acc: 0.8209 - val_loss: 0.4069 - val_acc: 0.8258\n",
      "Epoch 3/20\n",
      "15000/15000 [==============================] - 1s 58us/step - loss: 0.3694 - acc: 0.8501 - val_loss: 0.3663 - val_acc: 0.8452\n",
      "Epoch 4/20\n",
      "15000/15000 [==============================] - 1s 49us/step - loss: 0.3370 - acc: 0.8621 - val_loss: 0.3483 - val_acc: 0.8536\n",
      "Epoch 5/20\n",
      "15000/15000 [==============================] - 1s 55us/step - loss: 0.3237 - acc: 0.8666 - val_loss: 0.3462 - val_acc: 0.8527\n",
      "Epoch 6/20\n",
      "15000/15000 [==============================] - 1s 58us/step - loss: 0.3074 - acc: 0.8741 - val_loss: 0.3416 - val_acc: 0.8571\n",
      "Epoch 7/20\n",
      "15000/15000 [==============================] - 1s 54us/step - loss: 0.3024 - acc: 0.8773 - val_loss: 0.3354 - val_acc: 0.8585\n",
      "Epoch 8/20\n",
      "15000/15000 [==============================] - 1s 54us/step - loss: 0.2950 - acc: 0.8786 - val_loss: 0.3357 - val_acc: 0.8594\n",
      "Epoch 9/20\n",
      "15000/15000 [==============================] - 1s 54us/step - loss: 0.2893 - acc: 0.8815 - val_loss: 0.3383 - val_acc: 0.8595\n",
      "Epoch 10/20\n",
      "15000/15000 [==============================] - 1s 61us/step - loss: 0.2854 - acc: 0.8822 - val_loss: 0.3424 - val_acc: 0.8568\n",
      "Epoch 11/20\n",
      "15000/15000 [==============================] - 1s 49us/step - loss: 0.2805 - acc: 0.8856 - val_loss: 0.3426 - val_acc: 0.8560\n",
      "Epoch 12/20\n",
      "15000/15000 [==============================] - 1s 62us/step - loss: 0.2777 - acc: 0.8841 - val_loss: 0.3563 - val_acc: 0.8491\n",
      "Epoch 13/20\n",
      "15000/15000 [==============================] - 1s 65us/step - loss: 0.2741 - acc: 0.8868 - val_loss: 0.3412 - val_acc: 0.8590\n",
      "Epoch 14/20\n",
      "15000/15000 [==============================] - 1s 65us/step - loss: 0.2739 - acc: 0.8862 - val_loss: 0.3598 - val_acc: 0.8527\n",
      "Epoch 15/20\n",
      "15000/15000 [==============================] - 1s 61us/step - loss: 0.2698 - acc: 0.8863 - val_loss: 0.3490 - val_acc: 0.8555\n",
      "Epoch 16/20\n",
      "15000/15000 [==============================] - 1s 58us/step - loss: 0.2642 - acc: 0.8917 - val_loss: 0.3663 - val_acc: 0.8505\n",
      "Epoch 17/20\n",
      "15000/15000 [==============================] - 1s 61us/step - loss: 0.2592 - acc: 0.8937 - val_loss: 0.3617 - val_acc: 0.8534\n",
      "Epoch 18/20\n",
      "15000/15000 [==============================] - 1s 54us/step - loss: 0.2580 - acc: 0.8917 - val_loss: 0.3667 - val_acc: 0.8452\n",
      "Epoch 19/20\n",
      "15000/15000 [==============================] - 1s 63us/step - loss: 0.2518 - acc: 0.8965 - val_loss: 0.3540 - val_acc: 0.8538\n",
      "Epoch 20/20\n",
      "15000/15000 [==============================] - 1s 55us/step - loss: 0.2475 - acc: 0.8983 - val_loss: 0.3487 - val_acc: 0.8575\n"
     ]
    }
   ],
   "source": [
    "history = model.fit(partial_x_train, partial_y_train, epochs = 20, batch_size = 512, validation_data = (x_val, y_val))"
   ]
  },
  {
   "cell_type": "markdown",
   "metadata": {},
   "source": [
    "After calling model.fit(), a History object is returned (hence setting the return value to a variable \"history\"). This history object holds a dictionary of data describing every event that took place during training."
   ]
  },
  {
   "cell_type": "code",
   "execution_count": 12,
   "metadata": {},
   "outputs": [
    {
     "data": {
      "text/plain": [
       "dict_keys(['val_loss', 'val_acc', 'loss', 'acc'])"
      ]
     },
     "execution_count": 12,
     "metadata": {},
     "output_type": "execute_result"
    }
   ],
   "source": [
    "history_dict = history.history\n",
    "history_dict.keys()"
   ]
  },
  {
   "cell_type": "markdown",
   "metadata": {},
   "source": [
    "The history contains four entries. These entries are representations of the loss and accuracy during both training and validation. To create a visual representation, we can plot these metrics."
   ]
  },
  {
   "cell_type": "code",
   "execution_count": 14,
   "metadata": {},
   "outputs": [
    {
     "data": {
      "image/png": "[encoded data removed]",
      "text/plain": [
       "<Figure size 432x288 with 1 Axes>"
      ]
     },
     "metadata": {
      "needs_background": "light"
     },
     "output_type": "display_data"
    }
   ],
   "source": [
    "import matplotlib.pyplot as plt\n",
    "\n",
    "acc = history.history['acc']\n",
    "val_acc = history.history['val_acc']\n",
    "loss = history.history['loss']\n",
    "val_loss = history.history['val_loss']\n",
    "\n",
    "epochs = range(1, len(acc) + 1)\n",
    "\n",
    "# \"bo\" is for \"blue dot\"\n",
    "plt.plot(epochs, loss, 'bo', label = 'Training Loss')\n",
    "# \"b\" is for \"solid blue line\"\n",
    "plt.plot(epochs, val_loss, 'b', label = \"Validation Loss\")\n",
    "plt.title('Training and Validation Loss')\n",
    "plt.xlabel('Epochs')\n",
    "plt.ylabel('Loss')\n",
    "plt.legend()\n",
    "\n",
    "plt.show()"
   ]
  },
  {
   "cell_type": "code",
   "execution_count": 15,
   "metadata": {},
   "outputs": [
    {
     "data": {
      "image/png": "[encoded data removed]",
      "text/plain": [
       "<Figure size 432x288 with 1 Axes>"
      ]
     },
     "metadata": {
      "needs_background": "light"
     },
     "output_type": "display_data"
    }
   ],
   "source": [
    "plt.clf()    # Clear figure\n",
    "acc_values = history_dict['acc']\n",
    "val_acc_values = history_dict['val_acc']\n",
    "\n",
    "plt.plot(epochs, acc, 'bo', label = 'Training Accuracy')\n",
    "plt.plot(epochs, val_acc, 'b', label = 'Validation Accuracy')\n",
    "plt.title('Training and Validation Accuracy')\n",
    "plt.xlabel('Epochs')\n",
    "plt.ylabel('Loss')\n",
    "plt.legend()\n",
    "\n",
    "plt.show()"
   ]
  },
  {
   "cell_type": "markdown",
   "metadata": {},
   "source": [
    "The blue dots represent training lost and accuracy, whereas the blue lines represent validation loss and accuracy. Normally we would see that the model learned the training data too well, and begins over-optimizing after the third epoch, preventing it from generalizing to the test set. However, due to lowering the network specifications due to RAM limitations, the graph data is a bit skewed.\n",
    "\n",
    "To prevent this, we can simply stop training at the point of over-optimization. We can now re-train the algorithm using a smaller number of epochs."
   ]
  },
  {
   "cell_type": "code",
   "execution_count": 16,
   "metadata": {},
   "outputs": [
    {
     "name": "stdout",
     "output_type": "stream",
     "text": [
      "Epoch 1/4\n",
      "25000/25000 [==============================] - 1s 59us/step - loss: 0.5456 - acc: 0.7512\n",
      "Epoch 2/4\n",
      "25000/25000 [==============================] - 1s 43us/step - loss: 0.3812 - acc: 0.8462\n",
      "Epoch 3/4\n",
      "25000/25000 [==============================] - 1s 44us/step - loss: 0.3347 - acc: 0.8620\n",
      "Epoch 4/4\n",
      "25000/25000 [==============================] - 1s 43us/step - loss: 0.3179 - acc: 0.8677\n",
      "25000/25000 [==============================] - 3s 114us/step\n"
     ]
    }
   ],
   "source": [
    "model = models.Sequential()\n",
    "model.add(layers.Dense(16, activation = 'relu', input_shape = (1000,)))\n",
    "model.add(layers.Dense(16, activation = 'relu'))\n",
    "model.add(layers.Dense(1, activation = 'sigmoid'))\n",
    "\n",
    "model.compile(optimizer = 'rmsprop', loss = 'binary_crossentropy', metrics=['accuracy'])\n",
    "\n",
    "model.fit(x_train, y_train, epochs = 4, batch_size = 512)\n",
    "results = model.evaluate(x_test, y_test)"
   ]
  },
  {
   "cell_type": "code",
   "execution_count": 17,
   "metadata": {},
   "outputs": [
    {
     "data": {
      "text/plain": [
       "[0.3302596697616577, 0.86068]"
      ]
     },
     "execution_count": 17,
     "metadata": {},
     "output_type": "execute_result"
    }
   ],
   "source": [
    "results"
   ]
  },
  {
   "cell_type": "markdown",
   "metadata": {},
   "source": [
    "As you can see, this improved approach achieves nearly the same accuracy in only 4 epochs.\n",
    "\n",
    "Now that the network is trained using the training data, we can apply it to the test data. Using model.predict(), we can generate the probability predictions for each review using our trained model."
   ]
  },
  {
   "cell_type": "code",
   "execution_count": 18,
   "metadata": {},
   "outputs": [
    {
     "data": {
      "text/plain": [
       "array([[0.32415926],\n",
       "       [0.99721444],\n",
       "       [0.3669784 ],\n",
       "       ...,\n",
       "       [0.10010603],\n",
       "       [0.10524654],\n",
       "       [0.3598267 ]], dtype=float32)"
      ]
     },
     "execution_count": 18,
     "metadata": {},
     "output_type": "execute_result"
    }
   ],
   "source": [
    "model.predict(x_test)"
   ]
  },
  {
   "cell_type": "markdown",
   "metadata": {},
   "source": [
    "But what if there are more than two outputs? We can't use a binary classifier. Take, for example, the Reuters newswires. We want to classify them into 46 different mutually-exclusive topics. We will use the same concept of classifying based on the words used in the review.\n",
    "\n",
    "First, we download and process the dataset."
   ]
  },
  {
   "cell_type": "code",
   "execution_count": 19,
   "metadata": {},
   "outputs": [],
   "source": [
    "from keras.datasets import reuters\n",
    "\n",
    "(train_data, train_labels), (test_data, test_labels) = reuters.load_data(num_words = 1000)"
   ]
  },
  {
   "cell_type": "markdown",
   "metadata": {},
   "source": [
    "Once again, we restrict the number of words to the 10,000 most frequently used words (Again, RAM limitations keeps this to 1,000 in my test)."
   ]
  },
  {
   "cell_type": "code",
   "execution_count": 20,
   "metadata": {},
   "outputs": [
    {
     "data": {
      "text/plain": [
       "8982"
      ]
     },
     "execution_count": 20,
     "metadata": {},
     "output_type": "execute_result"
    }
   ],
   "source": [
    "len(train_data)"
   ]
  },
  {
   "cell_type": "code",
   "execution_count": 21,
   "metadata": {},
   "outputs": [
    {
     "data": {
      "text/plain": [
       "2246"
      ]
     },
     "execution_count": 21,
     "metadata": {},
     "output_type": "execute_result"
    }
   ],
   "source": [
    "len(test_data)"
   ]
  },
  {
   "cell_type": "markdown",
   "metadata": {},
   "source": [
    "We can see that the training set contains 8982 cases, and the test set contains 2246 cases. These cases are constructed just like in the IMBD set. That is, each word is encoded by its index in a dictionary."
   ]
  },
  {
   "cell_type": "code",
   "execution_count": 22,
   "metadata": {},
   "outputs": [
    {
     "data": {
      "text/plain": [
       "[1,\n",
       " 2,\n",
       " 2,\n",
       " 8,\n",
       " 43,\n",
       " 10,\n",
       " 447,\n",
       " 5,\n",
       " 25,\n",
       " 207,\n",
       " 270,\n",
       " 5,\n",
       " 2,\n",
       " 111,\n",
       " 16,\n",
       " 369,\n",
       " 186,\n",
       " 90,\n",
       " 67,\n",
       " 7,\n",
       " 89,\n",
       " 5,\n",
       " 19,\n",
       " 102,\n",
       " 6,\n",
       " 19,\n",
       " 124,\n",
       " 15,\n",
       " 90,\n",
       " 67,\n",
       " 84,\n",
       " 22,\n",
       " 482,\n",
       " 26,\n",
       " 7,\n",
       " 48,\n",
       " 4,\n",
       " 49,\n",
       " 8,\n",
       " 864,\n",
       " 39,\n",
       " 209,\n",
       " 154,\n",
       " 6,\n",
       " 151,\n",
       " 6,\n",
       " 83,\n",
       " 11,\n",
       " 15,\n",
       " 22,\n",
       " 155,\n",
       " 11,\n",
       " 15,\n",
       " 7,\n",
       " 48,\n",
       " 9,\n",
       " 2,\n",
       " 2,\n",
       " 504,\n",
       " 6,\n",
       " 258,\n",
       " 6,\n",
       " 272,\n",
       " 11,\n",
       " 15,\n",
       " 22,\n",
       " 134,\n",
       " 44,\n",
       " 11,\n",
       " 15,\n",
       " 16,\n",
       " 8,\n",
       " 197,\n",
       " 2,\n",
       " 90,\n",
       " 67,\n",
       " 52,\n",
       " 29,\n",
       " 209,\n",
       " 30,\n",
       " 32,\n",
       " 132,\n",
       " 6,\n",
       " 109,\n",
       " 15,\n",
       " 17,\n",
       " 12]"
      ]
     },
     "execution_count": 22,
     "metadata": {},
     "output_type": "execute_result"
    }
   ],
   "source": [
    "train_data[0]"
   ]
  },
  {
   "cell_type": "markdown",
   "metadata": {},
   "source": [
    "Like with the IMBD dataset, decoding the newswires work can be done with the following code:"
   ]
  },
  {
   "cell_type": "code",
   "execution_count": 23,
   "metadata": {},
   "outputs": [
    {
     "name": "stdout",
     "output_type": "stream",
     "text": [
      "? ? ? said as a result of its december acquisition of ? co it expects earnings per share in 1987 of 1 15 to 1 30 dlrs per share up from 70 cts in 1986 the company said pretax net should rise to nine to 10 mln dlrs from six mln dlrs in 1986 and ? ? revenues to 19 to 22 mln dlrs from 12 5 mln dlrs it said cash ? per share this year should be 2 50 to three dlrs reuter 3\n"
     ]
    }
   ],
   "source": [
    "word_index = reuters.get_word_index()\n",
    "reverse_word_index = dict([(value, key) for (key, value) in word_index.items()])\n",
    "# Note that our indices were offset by 3\n",
    "# because 0, 1, and 2 are reserved indices for \"padding\", \"start of sequence\", and \"unkown\"\n",
    "decoded_newswire = ' '.join([reverse_word_index.get(i - 3, '?') for i in train_data[0]])\n",
    "print(decoded_newswire)"
   ]
  },
  {
   "cell_type": "markdown",
   "metadata": {},
   "source": [
    "The label for each case of training data is an integer from 0 to 45, each representing one of the 46 different topics."
   ]
  },
  {
   "cell_type": "code",
   "execution_count": 24,
   "metadata": {},
   "outputs": [
    {
     "data": {
      "text/plain": [
       "3"
      ]
     },
     "execution_count": 24,
     "metadata": {},
     "output_type": "execute_result"
    }
   ],
   "source": [
    "train_labels[10]"
   ]
  },
  {
   "cell_type": "markdown",
   "metadata": {},
   "source": [
    "We can vectorize the data the same way as before."
   ]
  },
  {
   "cell_type": "code",
   "execution_count": 25,
   "metadata": {},
   "outputs": [],
   "source": [
    "import numpy as np\n",
    "\n",
    "def vectorize_sequences(sequences, dimension = 1000):\n",
    "    results = np.zeros((len(sequences), dimension))\n",
    "    for i, sequence in enumerate(sequences):\n",
    "        results[i, sequence] = 1\n",
    "    return results\n",
    "\n",
    "# Our vectorized training data\n",
    "x_train = vectorize_sequences(train_data)\n",
    "# Our vectorized test data\n",
    "x_test = vectorize_sequences(test_data)"
   ]
  },
  {
   "cell_type": "markdown",
   "metadata": {},
   "source": [
    "We can vectorize the labels using one-hot-encoding as well."
   ]
  },
  {
   "cell_type": "code",
   "execution_count": 26,
   "metadata": {},
   "outputs": [],
   "source": [
    "def to_one_hot(labels, dimension=46):\n",
    "    results = np.zeros((len(labels), dimension))\n",
    "    for i, label in enumerate(labels):\n",
    "        results[i, label] = 1\n",
    "    return results\n",
    "\n",
    "# Our vectorized training labels\n",
    "one_hot_train_labels = to_one_hot(train_labels)\n",
    "# Our vectorized test labels\n",
    "one_hot_test_labels = to_one_hot(test_labels)"
   ]
  },
  {
   "cell_type": "markdown",
   "metadata": {},
   "source": [
    "Now we build the network. However this time, a 16-dimensional space is too small to learn 46 seperate classes. For this reason, we need a larger size of hidden units. Let's say, 64. And, of course, we use 46 for the final layer, as there are 46 different classes."
   ]
  },
  {
   "cell_type": "code",
   "execution_count": 27,
   "metadata": {},
   "outputs": [],
   "source": [
    "from keras import models\n",
    "from keras import layers\n",
    "\n",
    "model = models.Sequential()\n",
    "model.add(layers.Dense(64, activation = 'relu', input_shape = (1000,)))\n",
    "model.add(layers.Dense(64, activation = 'relu'))\n",
    "model.add(layers.Dense(46, activation = 'softmax'))"
   ]
  },
  {
   "cell_type": "markdown",
   "metadata": {},
   "source": [
    "The final layer will output a 46 dimensional vector. Each entry in this vector will encode each output class. The softmax activation allows the final layer to produce that 46 dimensional vector to where the entries in the vector are a probability that the sample belongs to that class. In other words, if output[2] == 0.11, then the network predicts that the sample has an 11% chance it belongs to class 2. All output entries sum to 1.\n",
    "\n",
    "Now we decide on our loss function. Given the parameters of our dataset, categorical_crossentropy will fit best. This is because categorical measures the distance between two probability distributions. In other words, it measures the distance between the probability distribution calculated by this network, and the true probability distribution. This trains the network to output as close as possible to the true distribution."
   ]
  },
  {
   "cell_type": "code",
   "execution_count": 28,
   "metadata": {},
   "outputs": [],
   "source": [
    "model.compile(optimizer = 'rmsprop', loss = 'categorical_crossentropy', metrics = ['accuracy'])"
   ]
  },
  {
   "cell_type": "markdown",
   "metadata": {},
   "source": [
    "As with the last model, we have to create a validation set. Due to this dataset being significantly smaller than the first, we can use 1,000 samples, rather than 10,000."
   ]
  },
  {
   "cell_type": "code",
   "execution_count": 29,
   "metadata": {},
   "outputs": [],
   "source": [
    "x_val = x_train[:1000]\n",
    "partial_x_train = x_train[1000:]\n",
    "\n",
    "y_val = one_hot_train_labels[:1000]\n",
    "partial_y_train = one_hot_train_labels[1000:]"
   ]
  },
  {
   "cell_type": "markdown",
   "metadata": {},
   "source": [
    "And now we begin training. Let's start with 20 epochs again."
   ]
  },
  {
   "cell_type": "code",
   "execution_count": 30,
   "metadata": {},
   "outputs": [
    {
     "name": "stdout",
     "output_type": "stream",
     "text": [
      "Train on 7982 samples, validate on 1000 samples\n",
      "Epoch 1/20\n",
      "7982/7982 [==============================] - 1s 158us/step - loss: 2.6491 - acc: 0.4658 - val_loss: 1.8634 - val_acc: 0.5590\n",
      "Epoch 2/20\n",
      "7982/7982 [==============================] - 1s 84us/step - loss: 1.6717 - acc: 0.6110 - val_loss: 1.5169 - val_acc: 0.6430\n",
      "Epoch 3/20\n",
      "7982/7982 [==============================] - 1s 89us/step - loss: 1.3966 - acc: 0.6883 - val_loss: 1.3472 - val_acc: 0.6980\n",
      "Epoch 4/20\n",
      "7982/7982 [==============================] - 1s 83us/step - loss: 1.2285 - acc: 0.7288 - val_loss: 1.2312 - val_acc: 0.7230\n",
      "Epoch 5/20\n",
      "7982/7982 [==============================] - 1s 88us/step - loss: 1.0971 - acc: 0.7596 - val_loss: 1.1509 - val_acc: 0.7460\n",
      "Epoch 6/20\n",
      "7982/7982 [==============================] - 1s 81us/step - loss: 0.9951 - acc: 0.7790 - val_loss: 1.0972 - val_acc: 0.7510\n",
      "Epoch 7/20\n",
      "7982/7982 [==============================] - 1s 81us/step - loss: 0.9115 - acc: 0.7952 - val_loss: 1.0539 - val_acc: 0.7670\n",
      "Epoch 8/20\n",
      "7982/7982 [==============================] - 1s 85us/step - loss: 0.8353 - acc: 0.8108 - val_loss: 1.0291 - val_acc: 0.7630\n",
      "Epoch 9/20\n",
      "7982/7982 [==============================] - 1s 124us/step - loss: 0.7728 - acc: 0.8207 - val_loss: 0.9947 - val_acc: 0.7780\n",
      "Epoch 10/20\n",
      "7982/7982 [==============================] - 1s 126us/step - loss: 0.7184 - acc: 0.8338 - val_loss: 0.9641 - val_acc: 0.7910\n",
      "Epoch 11/20\n",
      "7982/7982 [==============================] - 1s 141us/step - loss: 0.6637 - acc: 0.8434 - val_loss: 0.9521 - val_acc: 0.7960\n",
      "Epoch 12/20\n",
      "7982/7982 [==============================] - 1s 102us/step - loss: 0.6143 - acc: 0.8568 - val_loss: 0.9325 - val_acc: 0.7990\n",
      "Epoch 13/20\n",
      "7982/7982 [==============================] - 1s 94us/step - loss: 0.5794 - acc: 0.8638 - val_loss: 0.9320 - val_acc: 0.7920\n",
      "Epoch 14/20\n",
      "7982/7982 [==============================] - 1s 108us/step - loss: 0.5408 - acc: 0.8745 - val_loss: 0.9197 - val_acc: 0.8030\n",
      "Epoch 15/20\n",
      "7982/7982 [==============================] - 1s 142us/step - loss: 0.5000 - acc: 0.8866 - val_loss: 0.9276 - val_acc: 0.8010\n",
      "Epoch 16/20\n",
      "7982/7982 [==============================] - 1s 110us/step - loss: 0.4725 - acc: 0.8900 - val_loss: 0.9165 - val_acc: 0.8090\n",
      "Epoch 17/20\n",
      "7982/7982 [==============================] - 1s 91us/step - loss: 0.4414 - acc: 0.8950 - val_loss: 0.9241 - val_acc: 0.8000\n",
      "Epoch 18/20\n",
      "7982/7982 [==============================] - 1s 101us/step - loss: 0.4130 - acc: 0.9035 - val_loss: 0.9307 - val_acc: 0.8040\n",
      "Epoch 19/20\n",
      "7982/7982 [==============================] - 1s 92us/step - loss: 0.3967 - acc: 0.9042 - val_loss: 0.9366 - val_acc: 0.8030\n",
      "Epoch 20/20\n",
      "7982/7982 [==============================] - 1s 92us/step - loss: 0.3668 - acc: 0.9139 - val_loss: 0.9769 - val_acc: 0.7810\n"
     ]
    }
   ],
   "source": [
    "history = model.fit(partial_x_train, partial_y_train, epochs = 20, batch_size = 512, validation_data = (x_val, y_val))"
   ]
  },
  {
   "cell_type": "code",
   "execution_count": 31,
   "metadata": {},
   "outputs": [
    {
     "data": {
      "image/png": "[encoded data removed]",
      "text/plain": [
       "<Figure size 432x288 with 1 Axes>"
      ]
     },
     "metadata": {
      "needs_background": "light"
     },
     "output_type": "display_data"
    }
   ],
   "source": [
    "import matplotlib.pyplot as plt\n",
    "\n",
    "loss = history.history['loss']\n",
    "val_loss = history.history['val_loss']\n",
    "\n",
    "epochs = range(1, len(loss) + 1)\n",
    "\n",
    "plt.plot(epochs, loss, 'bo', label = 'Training Loss')\n",
    "plt.plot(epochs, val_loss, 'b', label = 'Validation Loss')\n",
    "plt.title('Training and Validation Loss')\n",
    "plt.xlabel('Epochs')\n",
    "plt.ylabel('Loss')\n",
    "plt.legend()\n",
    "\n",
    "plt.show()"
   ]
  },
  {
   "cell_type": "code",
   "execution_count": 59,
   "metadata": {},
   "outputs": [
    {
     "data": {
      "image/png": "[encoded data removed]",
      "text/plain": [
       "<Figure size 432x288 with 1 Axes>"
      ]
     },
     "metadata": {
      "needs_background": "light"
     },
     "output_type": "display_data"
    }
   ],
   "source": [
    "plt.clf()    # Clear figure\n",
    "\n",
    "acc = history.history['acc']\n",
    "val_acc = history.history['val_acc']\n",
    "\n",
    "plt.plot(epochs, acc, 'bo', label = 'Training Accuracy')\n",
    "plt.plot(epochs, val_acc, 'b', label = 'Validation Accuracy')\n",
    "plt.title('Training and Validation Accuracy')\n",
    "plt.xlabel('Epochs')\n",
    "plt.ylabel('Accuracy')\n",
    "plt.legend()\n",
    "\n",
    "plt.show()"
   ]
  },
  {
   "cell_type": "markdown",
   "metadata": {},
   "source": [
    "Due to RAM limitations forcing the use of the 1,000 most frequently used words, rather than 10,000, my results are a bit skewed. The correct results would show that over-training starts after 9 epochs.\n",
    "\n",
    "Now we redefine our network using 9 epochs, and run it on the test data."
   ]
  },
  {
   "cell_type": "code",
   "execution_count": 32,
   "metadata": {},
   "outputs": [
    {
     "name": "stdout",
     "output_type": "stream",
     "text": [
      "Train on 7982 samples, validate on 1000 samples\n",
      "Epoch 1/9\n",
      "7982/7982 [==============================] - 2s 189us/step - loss: 2.6981 - acc: 0.4577 - val_loss: 1.8883 - val_acc: 0.5740\n",
      "Epoch 2/9\n",
      "7982/7982 [==============================] - 1s 88us/step - loss: 1.6505 - acc: 0.6389 - val_loss: 1.4760 - val_acc: 0.6630\n",
      "Epoch 3/9\n",
      "7982/7982 [==============================] - 1s 88us/step - loss: 1.3480 - acc: 0.6981 - val_loss: 1.3056 - val_acc: 0.7050\n",
      "Epoch 4/9\n",
      "7982/7982 [==============================] - 1s 87us/step - loss: 1.1793 - acc: 0.7329 - val_loss: 1.2098 - val_acc: 0.7180\n",
      "Epoch 5/9\n",
      "7982/7982 [==============================] - 1s 85us/step - loss: 1.0595 - acc: 0.7618 - val_loss: 1.1325 - val_acc: 0.7470\n",
      "Epoch 6/9\n",
      "7982/7982 [==============================] - 1s 86us/step - loss: 0.9694 - acc: 0.7823 - val_loss: 1.0658 - val_acc: 0.7640\n",
      "Epoch 7/9\n",
      "7982/7982 [==============================] - 1s 83us/step - loss: 0.8842 - acc: 0.7998 - val_loss: 1.0420 - val_acc: 0.7710\n",
      "Epoch 8/9\n",
      "7982/7982 [==============================] - 1s 88us/step - loss: 0.8151 - acc: 0.8099 - val_loss: 0.9951 - val_acc: 0.7750\n",
      "Epoch 9/9\n",
      "7982/7982 [==============================] - 1s 84us/step - loss: 0.7503 - acc: 0.8215 - val_loss: 1.0030 - val_acc: 0.7760\n",
      "2246/2246 [==============================] - 0s 152us/step\n"
     ]
    }
   ],
   "source": [
    "model = models.Sequential()\n",
    "model.add(layers.Dense(64, activation = 'relu', input_shape = (1000,)))\n",
    "model.add(layers.Dense(64, activation = 'relu'))\n",
    "model.add(layers.Dense(46, activation = 'softmax'))\n",
    "\n",
    "model.compile(optimizer = 'rmsprop', loss = 'categorical_crossentropy', metrics = ['accuracy'])\n",
    "model.fit(partial_x_train, partial_y_train, epochs = 9, batch_size = 512, validation_data = (x_val, y_val))\n",
    "results = model.evaluate(x_test, one_hot_test_labels)"
   ]
  },
  {
   "cell_type": "code",
   "execution_count": 33,
   "metadata": {},
   "outputs": [
    {
     "data": {
      "text/plain": [
       "[1.0629782956939453, 0.7466607302400754]"
      ]
     },
     "execution_count": 33,
     "metadata": {},
     "output_type": "execute_result"
    }
   ],
   "source": [
    "results"
   ]
  },
  {
   "cell_type": "markdown",
   "metadata": {},
   "source": [
    "The resulting accuracy is ~75%. This would be closer to 80% given we use 10,000 frequent words, rather than 1,000, so we'll pretend it's closer to 80%.\n",
    "\n",
    "Now let's make predictions on the test set."
   ]
  },
  {
   "cell_type": "code",
   "execution_count": 34,
   "metadata": {},
   "outputs": [
    {
     "name": "stdout",
     "output_type": "stream",
     "text": [
      "(46,)\n",
      "1.0000001\n"
     ]
    }
   ],
   "source": [
    "predictions = model.predict(x_test)\n",
    "print(predictions[0].shape)\n",
    "print(np.sum(predictions[0]))"
   ]
  },
  {
   "cell_type": "markdown",
   "metadata": {},
   "source": [
    "We can see that the resulting output is a vector of size 46, and the elements of the vector sum to 1 (plus or minus a negligible amount due to rounding during calculation)\n",
    "\n",
    "Finding the highest probability within this vector specifies which class the network predicts the data case belongs to."
   ]
  },
  {
   "cell_type": "code",
   "execution_count": 35,
   "metadata": {},
   "outputs": [
    {
     "data": {
      "text/plain": [
       "3"
      ]
     },
     "execution_count": 35,
     "metadata": {},
     "output_type": "execute_result"
    }
   ],
   "source": [
    "np.argmax(predictions[0])"
   ]
  }
 ],
 "metadata": {
  "kernelspec": {
   "display_name": "Python 3",
   "language": "python",
   "name": "python3"
  },
  "language_info": {
   "codemirror_mode": {
    "name": "ipython",
    "version": 3
   },
   "file_extension": ".py",
   "mimetype": "text/x-python",
   "name": "python",
   "nbconvert_exporter": "python",
   "pygments_lexer": "ipython3",
   "version": "3.6.7"
  }
 },
 "nbformat": 4,
 "nbformat_minor": 2
}
